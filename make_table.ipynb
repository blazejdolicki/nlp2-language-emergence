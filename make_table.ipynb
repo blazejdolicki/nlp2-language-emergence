{
 "metadata": {
  "language_info": {
   "codemirror_mode": {
    "name": "ipython",
    "version": 3
   },
   "file_extension": ".py",
   "mimetype": "text/x-python",
   "name": "python",
   "nbconvert_exporter": "python",
   "pygments_lexer": "ipython3",
   "version": "3.7.0-final"
  },
  "orig_nbformat": 2,
  "kernelspec": {
   "name": "python3",
   "display_name": "Python 3.7.0 64-bit ('le-nlp2': conda)",
   "metadata": {
    "interpreter": {
     "hash": "faf78f47fd8955034d4b777123a9000e41db7624cc754dae23eef5d5cda1ecdc"
    }
   }
  }
 },
 "nbformat": 4,
 "nbformat_minor": 2,
 "cells": [
  {
   "cell_type": "code",
   "execution_count": 11,
   "metadata": {},
   "outputs": [
    {
     "output_type": "execute_result",
     "data": {
      "text/plain": [
       "('24_03_2021_10_43_50_task_standard_seed_7',\n",
       " '24_03_2021_13_05_47_task_img_clas_seed_7',\n",
       " '24_03_2021_15_19_17_task_target_clas_seed_7')"
      ]
     },
     "metadata": {},
     "execution_count": 11
    }
   ],
   "source": [
    "events[3], events[12],events[21] "
   ]
  },
  {
   "cell_type": "code",
   "execution_count": 1,
   "metadata": {},
   "outputs": [],
   "source": [
    "events = ['24_03_2021_10_33_16_task_standard_seed_7', '24_03_2021_10_37_04_task_standard_seed_122', '24_03_2021_10_39_50_task_standard_seed_809', '24_03_2021_10_43_50_task_standard_seed_7', '24_03_2021_11_00_48_task_standard_seed_122', '24_03_2021_11_18_26_task_standard_seed_809', '24_03_2021_11_35_57_task_standard_seed_7', '24_03_2021_11_54_58_task_standard_seed_122', '24_03_2021_12_13_03_task_standard_seed_809', '24_03_2021_12_30_12_task_img_clas_seed_7', '24_03_2021_12_37_57_task_img_clas_seed_122', '24_03_2021_12_44_03_task_img_clas_seed_809', '24_03_2021_13_05_47_task_img_clas_seed_7', '24_03_2021_13_27_19_task_img_clas_seed_122', '24_03_2021_13_48_31_task_img_clas_seed_809', '24_03_2021_13_59_50_task_img_clas_seed_7', '24_03_2021_14_21_20_task_img_clas_seed_122', '24_03_2021_14_43_14_task_img_clas_seed_809', '24_03_2021_15_05_02_task_target_clas_seed_7', '24_03_2021_15_09_49_task_target_clas_seed_122', '24_03_2021_15_14_35_task_target_clas_seed_809', '24_03_2021_15_19_17_task_target_clas_seed_7', '24_03_2021_15_41_05_task_target_clas_seed_122', '24_03_2021_16_02_59_task_target_clas_seed_809', '24_03_2021_16_24_57_task_target_clas_seed_7', '24_03_2021_16_47_18_task_target_clas_seed_122', '24_03_2021_17_09_55_task_target_clas_seed_809']"
   ]
  },
  {
   "cell_type": "code",
   "execution_count": 2,
   "metadata": {},
   "outputs": [],
   "source": [
    "from tensorboard.backend.event_processing import event_accumulator\n",
    "import os\n",
    "import numpy as np\n",
    "import pandas as pd\n",
    "import json\n",
    "\n",
    "def load_metric_from_event(event_name): \n",
    "    event_path = os.path.join(\"runs\", event_name)\n",
    "    event_name = os.listdir(event_path)[0]\n",
    "    event_path = os.path.join(event_path, event_name)\n",
    "\n",
    "    # only read scalars\n",
    "    ea = event_accumulator.EventAccumulator(event_path, size_guidance={event_accumulator.SCALARS: 0})\n",
    "\n",
    "    # load scalars\n",
    "    ea.Reload()\n",
    "\n",
    "    return get_best_epoch_metrics(ea)\n",
    "\n",
    "def get_best_epoch_metrics(ea):\n",
    "    test_accs = ea.Scalars(f\"test/acc\")\n",
    "    test_acc_vals = [acc.value for acc in test_accs]\n",
    "    test_best_acc_idx = np.argmax(test_acc_vals)\n",
    "    test_best_acc = np.max(test_acc_vals)\n",
    "    test_best_epoch = test_accs[test_best_acc_idx].step\n",
    "\n",
    "    train_accs = ea.Scalars(f\"train/acc\")\n",
    "    train_best_acc = train_accs[test_best_acc_idx].value\n",
    "    try:\n",
    "        train_img_clas_accs = ea.Scalars(f\"train/img_class_acc\")\n",
    "        train_best_img_clas_acc = train_img_clas_accs[test_best_acc_idx].value\n",
    "\n",
    "        \n",
    "        test_img_clas_accs = ea.Scalars(f\"train/img_class_acc\")\n",
    "        test_best_img_clas_acc = test_img_clas_accs[test_best_acc_idx].value\n",
    "    except KeyError:\n",
    "        train_best_img_clas_acc = np.nan\n",
    "        test_best_img_clas_acc = np.nan\n",
    "    \n",
    "    return [test_best_epoch, train_best_acc, test_best_acc, train_best_img_clas_acc, test_best_img_clas_acc]"
   ]
  },
  {
   "source": [
    "## Define important variables"
   ],
   "cell_type": "markdown",
   "metadata": {}
  },
  {
   "cell_type": "code",
   "execution_count": 3,
   "metadata": {},
   "outputs": [],
   "source": [
    "# events in tensorboard\n",
    "\n",
    "\n",
    "# choose which columsn to include\n",
    "include_cols = [\"task\", \"ic_loss_weight\", \"num_imgs\", \"same_class_prob\", \"seed\"]"
   ]
  },
  {
   "cell_type": "code",
   "execution_count": 7,
   "metadata": {},
   "outputs": [],
   "source": [
    "results = []\n",
    "args_dir = os.path.join(\"args\")\n",
    "for event_name in events:\n",
    "    # get parameters\n",
    "    with open(f\"{args_dir}\\\\args_{event_name}.json\") as json_file:\n",
    "        params = json.load(json_file)\n",
    "    # wrap each value into a list\n",
    "    params = {key:[value] for key, value in params.items()}\n",
    "\n",
    "    # create dataframe and add parameters\n",
    "    results_df = pd.DataFrame(params)[include_cols]\n",
    "\n",
    "    # add metrics\n",
    "    metric_cols = [\"best epoch\", \"best train acc\", \"best test acc\", \"best train img acc\", \"best test img acc\"]\n",
    "    results_df.loc[:, metric_cols] = load_metric_from_event(event_name)\n",
    "    # append to final table\n",
    "    results.append(results_df)\n",
    "\n",
    "\n",
    "results = pd.concat(results)\n",
    "results[\"success\"] = (results[\"best test acc\"]>0.97).astype(int)"
   ]
  },
  {
   "cell_type": "code",
   "execution_count": 8,
   "metadata": {},
   "outputs": [
    {
     "output_type": "execute_result",
     "data": {
      "text/plain": [
       "    index         task  ic_loss_weight  num_imgs  same_class_prob  seed  \\\n",
       "0       0     standard             1.0         2              0.0     7   \n",
       "1       0     standard             1.0         2              0.0   122   \n",
       "2       0     standard             1.0         2              0.0   809   \n",
       "3       0     standard             1.0         2              0.5     7   \n",
       "4       0     standard             1.0         2              0.5   122   \n",
       "5       0     standard             1.0         2              0.5   809   \n",
       "6       0     standard             1.0         2              1.0     7   \n",
       "7       0     standard             1.0         2              1.0   122   \n",
       "8       0     standard             1.0         2              1.0   809   \n",
       "9       0     img_clas             1.0         2              0.0     7   \n",
       "10      0     img_clas             1.0         2              0.0   122   \n",
       "11      0     img_clas             1.0         2              0.0   809   \n",
       "12      0     img_clas             1.0         2              0.5     7   \n",
       "13      0     img_clas             1.0         2              0.5   122   \n",
       "14      0     img_clas             1.0         2              0.5   809   \n",
       "15      0     img_clas             1.0         2              1.0     7   \n",
       "16      0     img_clas             1.0         2              1.0   122   \n",
       "17      0     img_clas             1.0         2              1.0   809   \n",
       "18      0  target_clas             1.0         2              0.0     7   \n",
       "19      0  target_clas             1.0         2              0.0   122   \n",
       "20      0  target_clas             1.0         2              0.0   809   \n",
       "21      0  target_clas             1.0         2              0.5     7   \n",
       "22      0  target_clas             1.0         2              0.5   122   \n",
       "23      0  target_clas             1.0         2              0.5   809   \n",
       "24      0  target_clas             1.0         2              1.0     7   \n",
       "25      0  target_clas             1.0         2              1.0   122   \n",
       "26      0  target_clas             1.0         2              1.0   809   \n",
       "\n",
       "    best epoch  best train acc  best test acc  best train img acc  \\\n",
       "0            3         0.96814         0.9756                 NaN   \n",
       "1            2         0.95060         0.9709                 NaN   \n",
       "2            3         0.96734         0.9748                 NaN   \n",
       "3            7         0.94554         0.9609                 NaN   \n",
       "4            7         0.91778         0.9361                 NaN   \n",
       "5            6         0.92722         0.9440                 NaN   \n",
       "6           13         0.90682         0.9408                 NaN   \n",
       "7           10         0.91446         0.9359                 NaN   \n",
       "8            9         0.92762         0.9463                 NaN   \n",
       "9            5         0.96110         0.9707             0.91821   \n",
       "10           4         0.96328         0.9701             0.91686   \n",
       "11           6         0.93578         0.9524             0.89306   \n",
       "12          10         0.93624         0.9574             0.88234   \n",
       "13          11         0.93056         0.9434             0.88357   \n",
       "14           5         0.95716         0.9733             0.89384   \n",
       "15          10         0.92506         0.9381             1.00000   \n",
       "16           9         0.91904         0.9398             1.00000   \n",
       "17          10         0.91140         0.9342             1.00000   \n",
       "18           3         0.96978         0.9743             0.33506   \n",
       "19           3         0.96950         0.9762             0.32850   \n",
       "20           3         0.97160         0.9758             0.35434   \n",
       "21           3         0.86184         0.9094             0.19066   \n",
       "22          12         0.88708         0.9246             0.55302   \n",
       "23           5         0.88742         0.9237             0.55706   \n",
       "24          10         0.88434         0.9264             0.54018   \n",
       "25           9         0.85378         0.9169             0.48258   \n",
       "26           7         0.84612         0.9079             0.49200   \n",
       "\n",
       "    best test img acc  success  \n",
       "0                 NaN        1  \n",
       "1                 NaN        1  \n",
       "2                 NaN        1  \n",
       "3                 NaN        0  \n",
       "4                 NaN        0  \n",
       "5                 NaN        0  \n",
       "6                 NaN        0  \n",
       "7                 NaN        0  \n",
       "8                 NaN        0  \n",
       "9             0.91821        1  \n",
       "10            0.91686        1  \n",
       "11            0.89306        0  \n",
       "12            0.88234        0  \n",
       "13            0.88357        0  \n",
       "14            0.89384        1  \n",
       "15            1.00000        0  \n",
       "16            1.00000        0  \n",
       "17            1.00000        0  \n",
       "18            0.33506        1  \n",
       "19            0.32850        1  \n",
       "20            0.35434        1  \n",
       "21            0.19066        0  \n",
       "22            0.55302        0  \n",
       "23            0.55706        0  \n",
       "24            0.54018        0  \n",
       "25            0.48258        0  \n",
       "26            0.49200        0  "
      ],
      "text/html": "<div>\n<style scoped>\n    .dataframe tbody tr th:only-of-type {\n        vertical-align: middle;\n    }\n\n    .dataframe tbody tr th {\n        vertical-align: top;\n    }\n\n    .dataframe thead th {\n        text-align: right;\n    }\n</style>\n<table border=\"1\" class=\"dataframe\">\n  <thead>\n    <tr style=\"text-align: right;\">\n      <th></th>\n      <th>index</th>\n      <th>task</th>\n      <th>ic_loss_weight</th>\n      <th>num_imgs</th>\n      <th>same_class_prob</th>\n      <th>seed</th>\n      <th>best epoch</th>\n      <th>best train acc</th>\n      <th>best test acc</th>\n      <th>best train img acc</th>\n      <th>best test img acc</th>\n      <th>success</th>\n    </tr>\n  </thead>\n  <tbody>\n    <tr>\n      <th>0</th>\n      <td>0</td>\n      <td>standard</td>\n      <td>1.0</td>\n      <td>2</td>\n      <td>0.0</td>\n      <td>7</td>\n      <td>3</td>\n      <td>0.96814</td>\n      <td>0.9756</td>\n      <td>NaN</td>\n      <td>NaN</td>\n      <td>1</td>\n    </tr>\n    <tr>\n      <th>1</th>\n      <td>0</td>\n      <td>standard</td>\n      <td>1.0</td>\n      <td>2</td>\n      <td>0.0</td>\n      <td>122</td>\n      <td>2</td>\n      <td>0.95060</td>\n      <td>0.9709</td>\n      <td>NaN</td>\n      <td>NaN</td>\n      <td>1</td>\n    </tr>\n    <tr>\n      <th>2</th>\n      <td>0</td>\n      <td>standard</td>\n      <td>1.0</td>\n      <td>2</td>\n      <td>0.0</td>\n      <td>809</td>\n      <td>3</td>\n      <td>0.96734</td>\n      <td>0.9748</td>\n      <td>NaN</td>\n      <td>NaN</td>\n      <td>1</td>\n    </tr>\n    <tr>\n      <th>3</th>\n      <td>0</td>\n      <td>standard</td>\n      <td>1.0</td>\n      <td>2</td>\n      <td>0.5</td>\n      <td>7</td>\n      <td>7</td>\n      <td>0.94554</td>\n      <td>0.9609</td>\n      <td>NaN</td>\n      <td>NaN</td>\n      <td>0</td>\n    </tr>\n    <tr>\n      <th>4</th>\n      <td>0</td>\n      <td>standard</td>\n      <td>1.0</td>\n      <td>2</td>\n      <td>0.5</td>\n      <td>122</td>\n      <td>7</td>\n      <td>0.91778</td>\n      <td>0.9361</td>\n      <td>NaN</td>\n      <td>NaN</td>\n      <td>0</td>\n    </tr>\n    <tr>\n      <th>5</th>\n      <td>0</td>\n      <td>standard</td>\n      <td>1.0</td>\n      <td>2</td>\n      <td>0.5</td>\n      <td>809</td>\n      <td>6</td>\n      <td>0.92722</td>\n      <td>0.9440</td>\n      <td>NaN</td>\n      <td>NaN</td>\n      <td>0</td>\n    </tr>\n    <tr>\n      <th>6</th>\n      <td>0</td>\n      <td>standard</td>\n      <td>1.0</td>\n      <td>2</td>\n      <td>1.0</td>\n      <td>7</td>\n      <td>13</td>\n      <td>0.90682</td>\n      <td>0.9408</td>\n      <td>NaN</td>\n      <td>NaN</td>\n      <td>0</td>\n    </tr>\n    <tr>\n      <th>7</th>\n      <td>0</td>\n      <td>standard</td>\n      <td>1.0</td>\n      <td>2</td>\n      <td>1.0</td>\n      <td>122</td>\n      <td>10</td>\n      <td>0.91446</td>\n      <td>0.9359</td>\n      <td>NaN</td>\n      <td>NaN</td>\n      <td>0</td>\n    </tr>\n    <tr>\n      <th>8</th>\n      <td>0</td>\n      <td>standard</td>\n      <td>1.0</td>\n      <td>2</td>\n      <td>1.0</td>\n      <td>809</td>\n      <td>9</td>\n      <td>0.92762</td>\n      <td>0.9463</td>\n      <td>NaN</td>\n      <td>NaN</td>\n      <td>0</td>\n    </tr>\n    <tr>\n      <th>9</th>\n      <td>0</td>\n      <td>img_clas</td>\n      <td>1.0</td>\n      <td>2</td>\n      <td>0.0</td>\n      <td>7</td>\n      <td>5</td>\n      <td>0.96110</td>\n      <td>0.9707</td>\n      <td>0.91821</td>\n      <td>0.91821</td>\n      <td>1</td>\n    </tr>\n    <tr>\n      <th>10</th>\n      <td>0</td>\n      <td>img_clas</td>\n      <td>1.0</td>\n      <td>2</td>\n      <td>0.0</td>\n      <td>122</td>\n      <td>4</td>\n      <td>0.96328</td>\n      <td>0.9701</td>\n      <td>0.91686</td>\n      <td>0.91686</td>\n      <td>1</td>\n    </tr>\n    <tr>\n      <th>11</th>\n      <td>0</td>\n      <td>img_clas</td>\n      <td>1.0</td>\n      <td>2</td>\n      <td>0.0</td>\n      <td>809</td>\n      <td>6</td>\n      <td>0.93578</td>\n      <td>0.9524</td>\n      <td>0.89306</td>\n      <td>0.89306</td>\n      <td>0</td>\n    </tr>\n    <tr>\n      <th>12</th>\n      <td>0</td>\n      <td>img_clas</td>\n      <td>1.0</td>\n      <td>2</td>\n      <td>0.5</td>\n      <td>7</td>\n      <td>10</td>\n      <td>0.93624</td>\n      <td>0.9574</td>\n      <td>0.88234</td>\n      <td>0.88234</td>\n      <td>0</td>\n    </tr>\n    <tr>\n      <th>13</th>\n      <td>0</td>\n      <td>img_clas</td>\n      <td>1.0</td>\n      <td>2</td>\n      <td>0.5</td>\n      <td>122</td>\n      <td>11</td>\n      <td>0.93056</td>\n      <td>0.9434</td>\n      <td>0.88357</td>\n      <td>0.88357</td>\n      <td>0</td>\n    </tr>\n    <tr>\n      <th>14</th>\n      <td>0</td>\n      <td>img_clas</td>\n      <td>1.0</td>\n      <td>2</td>\n      <td>0.5</td>\n      <td>809</td>\n      <td>5</td>\n      <td>0.95716</td>\n      <td>0.9733</td>\n      <td>0.89384</td>\n      <td>0.89384</td>\n      <td>1</td>\n    </tr>\n    <tr>\n      <th>15</th>\n      <td>0</td>\n      <td>img_clas</td>\n      <td>1.0</td>\n      <td>2</td>\n      <td>1.0</td>\n      <td>7</td>\n      <td>10</td>\n      <td>0.92506</td>\n      <td>0.9381</td>\n      <td>1.00000</td>\n      <td>1.00000</td>\n      <td>0</td>\n    </tr>\n    <tr>\n      <th>16</th>\n      <td>0</td>\n      <td>img_clas</td>\n      <td>1.0</td>\n      <td>2</td>\n      <td>1.0</td>\n      <td>122</td>\n      <td>9</td>\n      <td>0.91904</td>\n      <td>0.9398</td>\n      <td>1.00000</td>\n      <td>1.00000</td>\n      <td>0</td>\n    </tr>\n    <tr>\n      <th>17</th>\n      <td>0</td>\n      <td>img_clas</td>\n      <td>1.0</td>\n      <td>2</td>\n      <td>1.0</td>\n      <td>809</td>\n      <td>10</td>\n      <td>0.91140</td>\n      <td>0.9342</td>\n      <td>1.00000</td>\n      <td>1.00000</td>\n      <td>0</td>\n    </tr>\n    <tr>\n      <th>18</th>\n      <td>0</td>\n      <td>target_clas</td>\n      <td>1.0</td>\n      <td>2</td>\n      <td>0.0</td>\n      <td>7</td>\n      <td>3</td>\n      <td>0.96978</td>\n      <td>0.9743</td>\n      <td>0.33506</td>\n      <td>0.33506</td>\n      <td>1</td>\n    </tr>\n    <tr>\n      <th>19</th>\n      <td>0</td>\n      <td>target_clas</td>\n      <td>1.0</td>\n      <td>2</td>\n      <td>0.0</td>\n      <td>122</td>\n      <td>3</td>\n      <td>0.96950</td>\n      <td>0.9762</td>\n      <td>0.32850</td>\n      <td>0.32850</td>\n      <td>1</td>\n    </tr>\n    <tr>\n      <th>20</th>\n      <td>0</td>\n      <td>target_clas</td>\n      <td>1.0</td>\n      <td>2</td>\n      <td>0.0</td>\n      <td>809</td>\n      <td>3</td>\n      <td>0.97160</td>\n      <td>0.9758</td>\n      <td>0.35434</td>\n      <td>0.35434</td>\n      <td>1</td>\n    </tr>\n    <tr>\n      <th>21</th>\n      <td>0</td>\n      <td>target_clas</td>\n      <td>1.0</td>\n      <td>2</td>\n      <td>0.5</td>\n      <td>7</td>\n      <td>3</td>\n      <td>0.86184</td>\n      <td>0.9094</td>\n      <td>0.19066</td>\n      <td>0.19066</td>\n      <td>0</td>\n    </tr>\n    <tr>\n      <th>22</th>\n      <td>0</td>\n      <td>target_clas</td>\n      <td>1.0</td>\n      <td>2</td>\n      <td>0.5</td>\n      <td>122</td>\n      <td>12</td>\n      <td>0.88708</td>\n      <td>0.9246</td>\n      <td>0.55302</td>\n      <td>0.55302</td>\n      <td>0</td>\n    </tr>\n    <tr>\n      <th>23</th>\n      <td>0</td>\n      <td>target_clas</td>\n      <td>1.0</td>\n      <td>2</td>\n      <td>0.5</td>\n      <td>809</td>\n      <td>5</td>\n      <td>0.88742</td>\n      <td>0.9237</td>\n      <td>0.55706</td>\n      <td>0.55706</td>\n      <td>0</td>\n    </tr>\n    <tr>\n      <th>24</th>\n      <td>0</td>\n      <td>target_clas</td>\n      <td>1.0</td>\n      <td>2</td>\n      <td>1.0</td>\n      <td>7</td>\n      <td>10</td>\n      <td>0.88434</td>\n      <td>0.9264</td>\n      <td>0.54018</td>\n      <td>0.54018</td>\n      <td>0</td>\n    </tr>\n    <tr>\n      <th>25</th>\n      <td>0</td>\n      <td>target_clas</td>\n      <td>1.0</td>\n      <td>2</td>\n      <td>1.0</td>\n      <td>122</td>\n      <td>9</td>\n      <td>0.85378</td>\n      <td>0.9169</td>\n      <td>0.48258</td>\n      <td>0.48258</td>\n      <td>0</td>\n    </tr>\n    <tr>\n      <th>26</th>\n      <td>0</td>\n      <td>target_clas</td>\n      <td>1.0</td>\n      <td>2</td>\n      <td>1.0</td>\n      <td>809</td>\n      <td>7</td>\n      <td>0.84612</td>\n      <td>0.9079</td>\n      <td>0.49200</td>\n      <td>0.49200</td>\n      <td>0</td>\n    </tr>\n  </tbody>\n</table>\n</div>"
     },
     "metadata": {},
     "execution_count": 8
    }
   ],
   "source": [
    "results.reset_index()"
   ]
  },
  {
   "cell_type": "code",
   "execution_count": 134,
   "metadata": {},
   "outputs": [],
   "source": [
    "# success_results = results[results[\"success\"]==1].groupby(by=[\"task\", \"same_class_prob\"])[\"best epoch\"].mean()"
   ]
  },
  {
   "cell_type": "code",
   "execution_count": 136,
   "metadata": {},
   "outputs": [],
   "source": [
    "results = results.drop([\"ic_loss_weight\", \"num_imgs\", \"best epoch\", \"best train acc\", \"best train img acc\"], axis=1)\n",
    "results = results.groupby(by=[\"task\", \"same_class_prob\"]).mean().drop([\"seed\"], axis=1) #.agg({'best test acc' : ['mean'], 'best test img acc':['mean'], \"success\":['mean']}) "
   ]
  },
  {
   "cell_type": "code",
   "execution_count": 137,
   "metadata": {},
   "outputs": [],
   "source": [
    "results = results.reindex(index = ['standard','img_clas','target_clas'], level=\"task\").fillna('-')"
   ]
  },
  {
   "cell_type": "code",
   "execution_count": 138,
   "metadata": {},
   "outputs": [],
   "source": [
    "pd.options.display.float_format = '{:,.3f}'.format"
   ]
  },
  {
   "cell_type": "code",
   "execution_count": 139,
   "metadata": {},
   "outputs": [],
   "source": [
    "results = results.drop([\"success\"], axis=1)"
   ]
  },
  {
   "cell_type": "code",
   "execution_count": 140,
   "metadata": {},
   "outputs": [
    {
     "output_type": "execute_result",
     "data": {
      "text/plain": [
       "                             best test acc best test img acc\n",
       "task        same_class_prob                                 \n",
       "standard    0.000                    0.974                 -\n",
       "            0.500                    0.947                 -\n",
       "            1.000                    0.941                 -\n",
       "img_clas    0.000                    0.964             0.909\n",
       "            0.500                    0.958             0.887\n",
       "            1.000                    0.937             1.000\n",
       "target_clas 0.000                    0.975             0.339\n",
       "            0.500                    0.919             0.434\n",
       "            1.000                    0.917             0.505"
      ],
      "text/html": "<div>\n<style scoped>\n    .dataframe tbody tr th:only-of-type {\n        vertical-align: middle;\n    }\n\n    .dataframe tbody tr th {\n        vertical-align: top;\n    }\n\n    .dataframe thead th {\n        text-align: right;\n    }\n</style>\n<table border=\"1\" class=\"dataframe\">\n  <thead>\n    <tr style=\"text-align: right;\">\n      <th></th>\n      <th></th>\n      <th>best test acc</th>\n      <th>best test img acc</th>\n    </tr>\n    <tr>\n      <th>task</th>\n      <th>same_class_prob</th>\n      <th></th>\n      <th></th>\n    </tr>\n  </thead>\n  <tbody>\n    <tr>\n      <th rowspan=\"3\" valign=\"top\">standard</th>\n      <th>0.000</th>\n      <td>0.974</td>\n      <td>-</td>\n    </tr>\n    <tr>\n      <th>0.500</th>\n      <td>0.947</td>\n      <td>-</td>\n    </tr>\n    <tr>\n      <th>1.000</th>\n      <td>0.941</td>\n      <td>-</td>\n    </tr>\n    <tr>\n      <th rowspan=\"3\" valign=\"top\">img_clas</th>\n      <th>0.000</th>\n      <td>0.964</td>\n      <td>0.909</td>\n    </tr>\n    <tr>\n      <th>0.500</th>\n      <td>0.958</td>\n      <td>0.887</td>\n    </tr>\n    <tr>\n      <th>1.000</th>\n      <td>0.937</td>\n      <td>1.000</td>\n    </tr>\n    <tr>\n      <th rowspan=\"3\" valign=\"top\">target_clas</th>\n      <th>0.000</th>\n      <td>0.975</td>\n      <td>0.339</td>\n    </tr>\n    <tr>\n      <th>0.500</th>\n      <td>0.919</td>\n      <td>0.434</td>\n    </tr>\n    <tr>\n      <th>1.000</th>\n      <td>0.917</td>\n      <td>0.505</td>\n    </tr>\n  </tbody>\n</table>\n</div>"
     },
     "metadata": {},
     "execution_count": 140
    }
   ],
   "source": [
    "results"
   ]
  },
  {
   "cell_type": "code",
   "execution_count": 123,
   "metadata": {},
   "outputs": [
    {
     "output_type": "stream",
     "name": "stdout",
     "text": [
      "\\begin{tabular}{llrrl}\n\\toprule\n            &       &  best epoch &  best test acc & best test img acc \\\\\ntask & same\\_class\\_prob &             &                &                   \\\\\n\\midrule\nstandard & 0.000 &       2.667 &          0.974 &                 - \\\\\n            & 0.500 &       6.667 &          0.947 &                 - \\\\\n            & 1.000 &      10.667 &          0.941 &                 - \\\\\nimg\\_clas & 0.000 &       5.000 &          0.964 &             0.909 \\\\\n            & 0.500 &       8.667 &          0.958 &             0.887 \\\\\n            & 1.000 &       9.667 &          0.937 &             1.000 \\\\\ntarget\\_clas & 0.000 &       3.000 &          0.975 &             0.339 \\\\\n            & 0.500 &       6.667 &          0.919 &             0.434 \\\\\n            & 1.000 &       8.667 &          0.917 &             0.505 \\\\\n\\bottomrule\n\\end{tabular}\n\n"
     ]
    }
   ],
   "source": [
    "print(results.to_latex())"
   ]
  },
  {
   "cell_type": "code",
   "execution_count": null,
   "metadata": {},
   "outputs": [],
   "source": [
    "# events = ['24_03_2021_10_33_16_task_standard_seed_7', '24_03_2021_10_37_04_task_standard_seed_122', '24_03_2021_10_39_50_task_standard_seed_809', '24_03_2021_10_43_50_task_standard_seed_7', '24_03_2021_11_00_48_task_standard_seed_122', '24_03_2021_11_18_26_task_standard_seed_809', '24_03_2021_11_35_57_task_standard_seed_7', '24_03_2021_11_54_58_task_standard_seed_122', '24_03_2021_12_13_03_task_standard_seed_809', '24_03_2021_12_30_12_task_img_clas_seed_7', '24_03_2021_12_37_57_task_img_clas_seed_122', '24_03_2021_12_44_03_task_img_clas_seed_809', '24_03_2021_13_05_47_task_img_clas_seed_7', '24_03_2021_13_27_19_task_img_clas_seed_122', '24_03_2021_13_48_31_task_img_clas_seed_809', '24_03_2021_13_59_50_task_img_clas_seed_7', '24_03_2021_14_21_20_task_img_clas_seed_122', '24_03_2021_14_43_14_task_img_clas_seed_809', '24_03_2021_15_05_02_task_target_clas_seed_7', '24_03_2021_15_09_49_task_target_clas_seed_122', '24_03_2021_15_14_35_task_target_clas_seed_809', '24_03_2021_15_19_17_task_target_clas_seed_7', '24_03_2021_15_41_05_task_target_clas_seed_122', '24_03_2021_16_02_59_task_target_clas_seed_809', '24_03_2021_16_24_57_task_target_clas_seed_7', '24_03_2021_16_47_18_task_target_clas_seed_122', '24_03_2021_17_09_55_task_target_clas_seed_809']"
   ]
  }
 ]
}