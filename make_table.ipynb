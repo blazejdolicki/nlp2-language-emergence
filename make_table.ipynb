{
 "metadata": {
  "language_info": {
   "codemirror_mode": {
    "name": "ipython",
    "version": 3
   },
   "file_extension": ".py",
   "mimetype": "text/x-python",
   "name": "python",
   "nbconvert_exporter": "python",
   "pygments_lexer": "ipython3",
   "version": "3.7.0-final"
  },
  "orig_nbformat": 2,
  "kernelspec": {
   "name": "python3",
   "display_name": "Python 3.7.0 64-bit ('le-nlp2': conda)",
   "metadata": {
    "interpreter": {
     "hash": "faf78f47fd8955034d4b777123a9000e41db7624cc754dae23eef5d5cda1ecdc"
    }
   }
  }
 },
 "nbformat": 4,
 "nbformat_minor": 2,
 "cells": [
  {
   "cell_type": "code",
   "execution_count": 1,
   "metadata": {},
   "outputs": [],
   "source": [
    "from tensorboard.backend.event_processing import event_accumulator\n",
    "import os\n",
    "import numpy as np\n",
    "import pandas as pd\n",
    "import json\n",
    "\n",
    "def load_metric_from_event(event_name): \n",
    "    event_path = os.path.join(\"runs\", event_name)\n",
    "    event_name = os.listdir(event_path)[0]\n",
    "    event_path = os.path.join(event_path, event_name)\n",
    "\n",
    "    # only read scalars\n",
    "    ea = event_accumulator.EventAccumulator(event_path, size_guidance={event_accumulator.SCALARS: 0})\n",
    "\n",
    "    # load scalars\n",
    "    ea.Reload()\n",
    "\n",
    "    return get_best_epoch_metric(ea, metric)\n",
    "\n",
    "def get_best_epoch_metric(ea, metric):\n",
    "    test_metrics = ea.Scalars(f\"test/{metric}\")\n",
    "    test_metric_vals = [metric.value for metric in test_metrics]\n",
    "    test_best_metric_idx = np.argmax(test_metric_vals)\n",
    "    test_best_metric = np.max(test_metric_vals)\n",
    "    test_best_epoch = test_metrics[test_best_metric_idx].step\n",
    "\n",
    "    train_metrics = ea.Scalars(f\"train/{metric}\")\n",
    "    train_best_metric = train_metrics[test_best_metric_idx].value\n",
    "    \n",
    "    return [test_best_epoch, train_best_metric, test_best_metric]"
   ]
  },
  {
   "source": [
    "## Define important variables"
   ],
   "cell_type": "markdown",
   "metadata": {}
  },
  {
   "cell_type": "code",
   "execution_count": 2,
   "metadata": {},
   "outputs": [],
   "source": [
    "# events in tensorboard\n",
    "events = [\"23_03_2021_21_46_51_task_standard_seed_7\"]\n",
    "metric = \"acc\"\n",
    "# choose which columsn to include\n",
    "include_cols = [\"task\", \"ic_loss_weight\", \"num_imgs\", \"same_class_prob\", \"seed\"]"
   ]
  },
  {
   "cell_type": "code",
   "execution_count": 3,
   "metadata": {},
   "outputs": [],
   "source": [
    "results = []\n",
    "args_dir = os.path.join(\"args\")\n",
    "for event_name in events:\n",
    "    # get parameters\n",
    "    with open(f\"{args_dir}\\\\args_{event_name}.json\") as json_file:\n",
    "        params = json.load(json_file)\n",
    "    # wrap each value into a list\n",
    "    params = {key:[value] for key, value in params.items()}\n",
    "\n",
    "    # create dataframe and add parameters\n",
    "    results_df = pd.DataFrame(params)[include_cols]\n",
    "\n",
    "    # add metrics\n",
    "    metric_cols = [\"best epoch\", f\"best train {metric}\", f\"best test {metric}\"]\n",
    "    results_df.loc[:, metric_cols] = load_metric_from_event(event_name)\n",
    "\n",
    "    # append to final table\n",
    "    results.append(results_df)\n",
    "\n",
    "results = pd.concat(results)"
   ]
  },
  {
   "cell_type": "code",
   "execution_count": 4,
   "metadata": {},
   "outputs": [
    {
     "output_type": "execute_result",
     "data": {
      "text/plain": [
       "       task  ic_loss_weight  num_imgs  same_class_prob  seed  best epoch  \\\n",
       "0  standard             1.0         2              0.0     7           3   \n",
       "\n",
       "   best train acc  best test acc  \n",
       "0         0.96814         0.9756  "
      ],
      "text/html": "<div>\n<style scoped>\n    .dataframe tbody tr th:only-of-type {\n        vertical-align: middle;\n    }\n\n    .dataframe tbody tr th {\n        vertical-align: top;\n    }\n\n    .dataframe thead th {\n        text-align: right;\n    }\n</style>\n<table border=\"1\" class=\"dataframe\">\n  <thead>\n    <tr style=\"text-align: right;\">\n      <th></th>\n      <th>task</th>\n      <th>ic_loss_weight</th>\n      <th>num_imgs</th>\n      <th>same_class_prob</th>\n      <th>seed</th>\n      <th>best epoch</th>\n      <th>best train acc</th>\n      <th>best test acc</th>\n    </tr>\n  </thead>\n  <tbody>\n    <tr>\n      <th>0</th>\n      <td>standard</td>\n      <td>1.0</td>\n      <td>2</td>\n      <td>0.0</td>\n      <td>7</td>\n      <td>3</td>\n      <td>0.96814</td>\n      <td>0.9756</td>\n    </tr>\n  </tbody>\n</table>\n</div>"
     },
     "metadata": {},
     "execution_count": 4
    }
   ],
   "source": [
    "results"
   ]
  },
  {
   "cell_type": "code",
   "execution_count": null,
   "metadata": {},
   "outputs": [],
   "source": []
  }
 ]
}