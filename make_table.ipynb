{
 "metadata": {
  "language_info": {
   "codemirror_mode": {
    "name": "ipython",
    "version": 3
   },
   "file_extension": ".py",
   "mimetype": "text/x-python",
   "name": "python",
   "nbconvert_exporter": "python",
   "pygments_lexer": "ipython3",
   "version": "3.7.0-final"
  },
  "orig_nbformat": 2,
  "kernelspec": {
   "name": "python3",
   "display_name": "Python 3.7.0 64-bit ('le-nlp2': conda)",
   "metadata": {
    "interpreter": {
     "hash": "faf78f47fd8955034d4b777123a9000e41db7624cc754dae23eef5d5cda1ecdc"
    }
   }
  }
 },
 "nbformat": 4,
 "nbformat_minor": 2,
 "cells": [
  {
   "cell_type": "code",
   "execution_count": 14,
   "metadata": {},
   "outputs": [],
   "source": [
    "from tensorboard.backend.event_processing import event_accumulator\n",
    "import os\n",
    "import numpy as np\n",
    "import pandas as pd\n",
    "import json\n",
    "\n",
    "def load_metric_from_event(event_name): \n",
    "    event_path = os.path.join(\"runs\", event_name)\n",
    "    event_name = os.listdir(event_path)[0]\n",
    "    event_path = os.path.join(event_path, event_name)\n",
    "\n",
    "    # only read scalars\n",
    "    ea = event_accumulator.EventAccumulator(event_path, size_guidance={event_accumulator.SCALARS: 0})\n",
    "\n",
    "    # load scalars\n",
    "    ea.Reload()\n",
    "\n",
    "    return get_best_epoch_metrics(ea)\n",
    "\n",
    "def get_best_epoch_metrics(ea):\n",
    "    test_accs = ea.Scalars(f\"test/acc\")\n",
    "    test_acc_vals = [acc.value for acc in test_accs]\n",
    "    test_best_acc_idx = np.argmax(test_acc_vals)\n",
    "    test_best_acc = np.max(test_acc_vals)\n",
    "    test_best_epoch = test_accs[test_best_acc_idx].step\n",
    "\n",
    "    train_accs = ea.Scalars(f\"train/acc\")\n",
    "    train_best_acc = train_accs[test_best_acc_idx].value\n",
    "    try:\n",
    "        train_img_clas_accs = ea.Scalars(f\"train/img_class_acc\")\n",
    "        train_best_img_clas_acc = train_img_clas_accs[test_best_acc_idx].value\n",
    "\n",
    "        \n",
    "        test_img_clas_accs = ea.Scalars(f\"train/img_class_acc\")\n",
    "        test_best_img_clas_acc = test_img_clas_accs[test_best_acc_idx].value\n",
    "    except KeyError:\n",
    "        train_best_img_clas_acc = np.nan\n",
    "        test_best_img_clas_acc = np.nan\n",
    "    \n",
    "    return [test_best_epoch, train_best_acc, test_best_acc, train_best_img_clas_acc, test_best_img_clas_acc]"
   ]
  },
  {
   "source": [
    "## Define important variables"
   ],
   "cell_type": "markdown",
   "metadata": {}
  },
  {
   "cell_type": "code",
   "execution_count": 15,
   "metadata": {},
   "outputs": [],
   "source": [
    "# events in tensorboard\n",
    "events = ['24_03_2021_10_33_16_task_standard_seed_7', '24_03_2021_10_37_04_task_standard_seed_122', '24_03_2021_10_39_50_task_standard_seed_809', '24_03_2021_10_43_50_task_standard_seed_7', '24_03_2021_11_00_48_task_standard_seed_122', '24_03_2021_11_18_26_task_standard_seed_809', '24_03_2021_11_35_57_task_standard_seed_7', '24_03_2021_11_54_58_task_standard_seed_122', '24_03_2021_12_13_03_task_standard_seed_809', '24_03_2021_12_30_12_task_img_clas_seed_7', '24_03_2021_12_37_57_task_img_clas_seed_122', '24_03_2021_12_44_03_task_img_clas_seed_809', '24_03_2021_13_05_47_task_img_clas_seed_7', '24_03_2021_13_27_19_task_img_clas_seed_122', '24_03_2021_13_48_31_task_img_clas_seed_809', '24_03_2021_13_59_50_task_img_clas_seed_7', '24_03_2021_14_21_20_task_img_clas_seed_122', '24_03_2021_14_43_14_task_img_clas_seed_809', '24_03_2021_15_05_02_task_target_clas_seed_7', '24_03_2021_15_09_49_task_target_clas_seed_122', '24_03_2021_15_14_35_task_target_clas_seed_809', '24_03_2021_15_19_17_task_target_clas_seed_7', '24_03_2021_15_41_05_task_target_clas_seed_122', '24_03_2021_16_02_59_task_target_clas_seed_809', '24_03_2021_16_24_57_task_target_clas_seed_7', '24_03_2021_16_47_18_task_target_clas_seed_122', '24_03_2021_17_09_55_task_target_clas_seed_809']\n",
    "\n",
    "# choose which columsn to include\n",
    "include_cols = [\"task\", \"ic_loss_weight\", \"num_imgs\", \"same_class_prob\", \"seed\"]"
   ]
  },
  {
   "cell_type": "code",
   "execution_count": 132,
   "metadata": {},
   "outputs": [],
   "source": [
    "results = []\n",
    "args_dir = os.path.join(\"args\")\n",
    "for event_name in events:\n",
    "    # get parameters\n",
    "    with open(f\"{args_dir}\\\\args_{event_name}.json\") as json_file:\n",
    "        params = json.load(json_file)\n",
    "    # wrap each value into a list\n",
    "    params = {key:[value] for key, value in params.items()}\n",
    "\n",
    "    # create dataframe and add parameters\n",
    "    results_df = pd.DataFrame(params)[include_cols]\n",
    "\n",
    "    # add metrics\n",
    "    metric_cols = [\"best epoch\", \"best train acc\", \"best test acc\", \"best train img acc\", \"best test img acc\"]\n",
    "    results_df.loc[:, metric_cols] = load_metric_from_event(event_name)\n",
    "    # append to final table\n",
    "    results.append(results_df)\n",
    "\n",
    "results = pd.concat(results)\n",
    "results[\"success\"] = (results[\"best test acc\"]>0.97).astype(int)"
   ]
  },
  {
   "cell_type": "code",
   "execution_count": 133,
   "metadata": {},
   "outputs": [
    {
     "output_type": "execute_result",
     "data": {
      "text/plain": [
       "          task  ic_loss_weight  num_imgs  same_class_prob  seed  best epoch  \\\n",
       "0     standard           1.000         2            0.000     7           3   \n",
       "0     standard           1.000         2            0.000   122           2   \n",
       "0     standard           1.000         2            0.000   809           3   \n",
       "0     standard           1.000         2            0.500     7           7   \n",
       "0     standard           1.000         2            0.500   122           7   \n",
       "0     standard           1.000         2            0.500   809           6   \n",
       "0     standard           1.000         2            1.000     7          13   \n",
       "0     standard           1.000         2            1.000   122          10   \n",
       "0     standard           1.000         2            1.000   809           9   \n",
       "0     img_clas           1.000         2            0.000     7           5   \n",
       "0     img_clas           1.000         2            0.000   122           4   \n",
       "0     img_clas           1.000         2            0.000   809           6   \n",
       "0     img_clas           1.000         2            0.500     7          10   \n",
       "0     img_clas           1.000         2            0.500   122          11   \n",
       "0     img_clas           1.000         2            0.500   809           5   \n",
       "0     img_clas           1.000         2            1.000     7          10   \n",
       "0     img_clas           1.000         2            1.000   122           9   \n",
       "0     img_clas           1.000         2            1.000   809          10   \n",
       "0  target_clas           1.000         2            0.000     7           3   \n",
       "0  target_clas           1.000         2            0.000   122           3   \n",
       "0  target_clas           1.000         2            0.000   809           3   \n",
       "0  target_clas           1.000         2            0.500     7           3   \n",
       "0  target_clas           1.000         2            0.500   122          12   \n",
       "0  target_clas           1.000         2            0.500   809           5   \n",
       "0  target_clas           1.000         2            1.000     7          10   \n",
       "0  target_clas           1.000         2            1.000   122           9   \n",
       "0  target_clas           1.000         2            1.000   809           7   \n",
       "\n",
       "   best train acc  best test acc  best train img acc  best test img acc  \\\n",
       "0           0.968          0.976                 nan                nan   \n",
       "0           0.951          0.971                 nan                nan   \n",
       "0           0.967          0.975                 nan                nan   \n",
       "0           0.946          0.961                 nan                nan   \n",
       "0           0.918          0.936                 nan                nan   \n",
       "0           0.927          0.944                 nan                nan   \n",
       "0           0.907          0.941                 nan                nan   \n",
       "0           0.914          0.936                 nan                nan   \n",
       "0           0.928          0.946                 nan                nan   \n",
       "0           0.961          0.971               0.918              0.918   \n",
       "0           0.963          0.970               0.917              0.917   \n",
       "0           0.936          0.952               0.893              0.893   \n",
       "0           0.936          0.957               0.882              0.882   \n",
       "0           0.931          0.943               0.884              0.884   \n",
       "0           0.957          0.973               0.894              0.894   \n",
       "0           0.925          0.938               1.000              1.000   \n",
       "0           0.919          0.940               1.000              1.000   \n",
       "0           0.911          0.934               1.000              1.000   \n",
       "0           0.970          0.974               0.335              0.335   \n",
       "0           0.970          0.976               0.329              0.329   \n",
       "0           0.972          0.976               0.354              0.354   \n",
       "0           0.862          0.909               0.191              0.191   \n",
       "0           0.887          0.925               0.553              0.553   \n",
       "0           0.887          0.924               0.557              0.557   \n",
       "0           0.884          0.926               0.540              0.540   \n",
       "0           0.854          0.917               0.483              0.483   \n",
       "0           0.846          0.908               0.492              0.492   \n",
       "\n",
       "   success  \n",
       "0        1  \n",
       "0        1  \n",
       "0        1  \n",
       "0        0  \n",
       "0        0  \n",
       "0        0  \n",
       "0        0  \n",
       "0        0  \n",
       "0        0  \n",
       "0        1  \n",
       "0        1  \n",
       "0        0  \n",
       "0        0  \n",
       "0        0  \n",
       "0        1  \n",
       "0        0  \n",
       "0        0  \n",
       "0        0  \n",
       "0        1  \n",
       "0        1  \n",
       "0        1  \n",
       "0        0  \n",
       "0        0  \n",
       "0        0  \n",
       "0        0  \n",
       "0        0  \n",
       "0        0  "
      ],
      "text/html": "<div>\n<style scoped>\n    .dataframe tbody tr th:only-of-type {\n        vertical-align: middle;\n    }\n\n    .dataframe tbody tr th {\n        vertical-align: top;\n    }\n\n    .dataframe thead th {\n        text-align: right;\n    }\n</style>\n<table border=\"1\" class=\"dataframe\">\n  <thead>\n    <tr style=\"text-align: right;\">\n      <th></th>\n      <th>task</th>\n      <th>ic_loss_weight</th>\n      <th>num_imgs</th>\n      <th>same_class_prob</th>\n      <th>seed</th>\n      <th>best epoch</th>\n      <th>best train acc</th>\n      <th>best test acc</th>\n      <th>best train img acc</th>\n      <th>best test img acc</th>\n      <th>success</th>\n    </tr>\n  </thead>\n  <tbody>\n    <tr>\n      <th>0</th>\n      <td>standard</td>\n      <td>1.000</td>\n      <td>2</td>\n      <td>0.000</td>\n      <td>7</td>\n      <td>3</td>\n      <td>0.968</td>\n      <td>0.976</td>\n      <td>nan</td>\n      <td>nan</td>\n      <td>1</td>\n    </tr>\n    <tr>\n      <th>0</th>\n      <td>standard</td>\n      <td>1.000</td>\n      <td>2</td>\n      <td>0.000</td>\n      <td>122</td>\n      <td>2</td>\n      <td>0.951</td>\n      <td>0.971</td>\n      <td>nan</td>\n      <td>nan</td>\n      <td>1</td>\n    </tr>\n    <tr>\n      <th>0</th>\n      <td>standard</td>\n      <td>1.000</td>\n      <td>2</td>\n      <td>0.000</td>\n      <td>809</td>\n      <td>3</td>\n      <td>0.967</td>\n      <td>0.975</td>\n      <td>nan</td>\n      <td>nan</td>\n      <td>1</td>\n    </tr>\n    <tr>\n      <th>0</th>\n      <td>standard</td>\n      <td>1.000</td>\n      <td>2</td>\n      <td>0.500</td>\n      <td>7</td>\n      <td>7</td>\n      <td>0.946</td>\n      <td>0.961</td>\n      <td>nan</td>\n      <td>nan</td>\n      <td>0</td>\n    </tr>\n    <tr>\n      <th>0</th>\n      <td>standard</td>\n      <td>1.000</td>\n      <td>2</td>\n      <td>0.500</td>\n      <td>122</td>\n      <td>7</td>\n      <td>0.918</td>\n      <td>0.936</td>\n      <td>nan</td>\n      <td>nan</td>\n      <td>0</td>\n    </tr>\n    <tr>\n      <th>0</th>\n      <td>standard</td>\n      <td>1.000</td>\n      <td>2</td>\n      <td>0.500</td>\n      <td>809</td>\n      <td>6</td>\n      <td>0.927</td>\n      <td>0.944</td>\n      <td>nan</td>\n      <td>nan</td>\n      <td>0</td>\n    </tr>\n    <tr>\n      <th>0</th>\n      <td>standard</td>\n      <td>1.000</td>\n      <td>2</td>\n      <td>1.000</td>\n      <td>7</td>\n      <td>13</td>\n      <td>0.907</td>\n      <td>0.941</td>\n      <td>nan</td>\n      <td>nan</td>\n      <td>0</td>\n    </tr>\n    <tr>\n      <th>0</th>\n      <td>standard</td>\n      <td>1.000</td>\n      <td>2</td>\n      <td>1.000</td>\n      <td>122</td>\n      <td>10</td>\n      <td>0.914</td>\n      <td>0.936</td>\n      <td>nan</td>\n      <td>nan</td>\n      <td>0</td>\n    </tr>\n    <tr>\n      <th>0</th>\n      <td>standard</td>\n      <td>1.000</td>\n      <td>2</td>\n      <td>1.000</td>\n      <td>809</td>\n      <td>9</td>\n      <td>0.928</td>\n      <td>0.946</td>\n      <td>nan</td>\n      <td>nan</td>\n      <td>0</td>\n    </tr>\n    <tr>\n      <th>0</th>\n      <td>img_clas</td>\n      <td>1.000</td>\n      <td>2</td>\n      <td>0.000</td>\n      <td>7</td>\n      <td>5</td>\n      <td>0.961</td>\n      <td>0.971</td>\n      <td>0.918</td>\n      <td>0.918</td>\n      <td>1</td>\n    </tr>\n    <tr>\n      <th>0</th>\n      <td>img_clas</td>\n      <td>1.000</td>\n      <td>2</td>\n      <td>0.000</td>\n      <td>122</td>\n      <td>4</td>\n      <td>0.963</td>\n      <td>0.970</td>\n      <td>0.917</td>\n      <td>0.917</td>\n      <td>1</td>\n    </tr>\n    <tr>\n      <th>0</th>\n      <td>img_clas</td>\n      <td>1.000</td>\n      <td>2</td>\n      <td>0.000</td>\n      <td>809</td>\n      <td>6</td>\n      <td>0.936</td>\n      <td>0.952</td>\n      <td>0.893</td>\n      <td>0.893</td>\n      <td>0</td>\n    </tr>\n    <tr>\n      <th>0</th>\n      <td>img_clas</td>\n      <td>1.000</td>\n      <td>2</td>\n      <td>0.500</td>\n      <td>7</td>\n      <td>10</td>\n      <td>0.936</td>\n      <td>0.957</td>\n      <td>0.882</td>\n      <td>0.882</td>\n      <td>0</td>\n    </tr>\n    <tr>\n      <th>0</th>\n      <td>img_clas</td>\n      <td>1.000</td>\n      <td>2</td>\n      <td>0.500</td>\n      <td>122</td>\n      <td>11</td>\n      <td>0.931</td>\n      <td>0.943</td>\n      <td>0.884</td>\n      <td>0.884</td>\n      <td>0</td>\n    </tr>\n    <tr>\n      <th>0</th>\n      <td>img_clas</td>\n      <td>1.000</td>\n      <td>2</td>\n      <td>0.500</td>\n      <td>809</td>\n      <td>5</td>\n      <td>0.957</td>\n      <td>0.973</td>\n      <td>0.894</td>\n      <td>0.894</td>\n      <td>1</td>\n    </tr>\n    <tr>\n      <th>0</th>\n      <td>img_clas</td>\n      <td>1.000</td>\n      <td>2</td>\n      <td>1.000</td>\n      <td>7</td>\n      <td>10</td>\n      <td>0.925</td>\n      <td>0.938</td>\n      <td>1.000</td>\n      <td>1.000</td>\n      <td>0</td>\n    </tr>\n    <tr>\n      <th>0</th>\n      <td>img_clas</td>\n      <td>1.000</td>\n      <td>2</td>\n      <td>1.000</td>\n      <td>122</td>\n      <td>9</td>\n      <td>0.919</td>\n      <td>0.940</td>\n      <td>1.000</td>\n      <td>1.000</td>\n      <td>0</td>\n    </tr>\n    <tr>\n      <th>0</th>\n      <td>img_clas</td>\n      <td>1.000</td>\n      <td>2</td>\n      <td>1.000</td>\n      <td>809</td>\n      <td>10</td>\n      <td>0.911</td>\n      <td>0.934</td>\n      <td>1.000</td>\n      <td>1.000</td>\n      <td>0</td>\n    </tr>\n    <tr>\n      <th>0</th>\n      <td>target_clas</td>\n      <td>1.000</td>\n      <td>2</td>\n      <td>0.000</td>\n      <td>7</td>\n      <td>3</td>\n      <td>0.970</td>\n      <td>0.974</td>\n      <td>0.335</td>\n      <td>0.335</td>\n      <td>1</td>\n    </tr>\n    <tr>\n      <th>0</th>\n      <td>target_clas</td>\n      <td>1.000</td>\n      <td>2</td>\n      <td>0.000</td>\n      <td>122</td>\n      <td>3</td>\n      <td>0.970</td>\n      <td>0.976</td>\n      <td>0.329</td>\n      <td>0.329</td>\n      <td>1</td>\n    </tr>\n    <tr>\n      <th>0</th>\n      <td>target_clas</td>\n      <td>1.000</td>\n      <td>2</td>\n      <td>0.000</td>\n      <td>809</td>\n      <td>3</td>\n      <td>0.972</td>\n      <td>0.976</td>\n      <td>0.354</td>\n      <td>0.354</td>\n      <td>1</td>\n    </tr>\n    <tr>\n      <th>0</th>\n      <td>target_clas</td>\n      <td>1.000</td>\n      <td>2</td>\n      <td>0.500</td>\n      <td>7</td>\n      <td>3</td>\n      <td>0.862</td>\n      <td>0.909</td>\n      <td>0.191</td>\n      <td>0.191</td>\n      <td>0</td>\n    </tr>\n    <tr>\n      <th>0</th>\n      <td>target_clas</td>\n      <td>1.000</td>\n      <td>2</td>\n      <td>0.500</td>\n      <td>122</td>\n      <td>12</td>\n      <td>0.887</td>\n      <td>0.925</td>\n      <td>0.553</td>\n      <td>0.553</td>\n      <td>0</td>\n    </tr>\n    <tr>\n      <th>0</th>\n      <td>target_clas</td>\n      <td>1.000</td>\n      <td>2</td>\n      <td>0.500</td>\n      <td>809</td>\n      <td>5</td>\n      <td>0.887</td>\n      <td>0.924</td>\n      <td>0.557</td>\n      <td>0.557</td>\n      <td>0</td>\n    </tr>\n    <tr>\n      <th>0</th>\n      <td>target_clas</td>\n      <td>1.000</td>\n      <td>2</td>\n      <td>1.000</td>\n      <td>7</td>\n      <td>10</td>\n      <td>0.884</td>\n      <td>0.926</td>\n      <td>0.540</td>\n      <td>0.540</td>\n      <td>0</td>\n    </tr>\n    <tr>\n      <th>0</th>\n      <td>target_clas</td>\n      <td>1.000</td>\n      <td>2</td>\n      <td>1.000</td>\n      <td>122</td>\n      <td>9</td>\n      <td>0.854</td>\n      <td>0.917</td>\n      <td>0.483</td>\n      <td>0.483</td>\n      <td>0</td>\n    </tr>\n    <tr>\n      <th>0</th>\n      <td>target_clas</td>\n      <td>1.000</td>\n      <td>2</td>\n      <td>1.000</td>\n      <td>809</td>\n      <td>7</td>\n      <td>0.846</td>\n      <td>0.908</td>\n      <td>0.492</td>\n      <td>0.492</td>\n      <td>0</td>\n    </tr>\n  </tbody>\n</table>\n</div>"
     },
     "metadata": {},
     "execution_count": 133
    }
   ],
   "source": [
    "results"
   ]
  },
  {
   "cell_type": "code",
   "execution_count": 134,
   "metadata": {},
   "outputs": [],
   "source": [
    "# success_results = results[results[\"success\"]==1].groupby(by=[\"task\", \"same_class_prob\"])[\"best epoch\"].mean()"
   ]
  },
  {
   "cell_type": "code",
   "execution_count": 136,
   "metadata": {},
   "outputs": [],
   "source": [
    "results = results.drop([\"ic_loss_weight\", \"num_imgs\", \"best epoch\", \"best train acc\", \"best train img acc\"], axis=1)\n",
    "results = results.groupby(by=[\"task\", \"same_class_prob\"]).mean().drop([\"seed\"], axis=1) #.agg({'best test acc' : ['mean'], 'best test img acc':['mean'], \"success\":['mean']}) "
   ]
  },
  {
   "cell_type": "code",
   "execution_count": 137,
   "metadata": {},
   "outputs": [],
   "source": [
    "results = results.reindex(index = ['standard','img_clas','target_clas'], level=\"task\").fillna('-')"
   ]
  },
  {
   "cell_type": "code",
   "execution_count": 138,
   "metadata": {},
   "outputs": [],
   "source": [
    "pd.options.display.float_format = '{:,.3f}'.format"
   ]
  },
  {
   "cell_type": "code",
   "execution_count": 139,
   "metadata": {},
   "outputs": [],
   "source": [
    "results = results.drop([\"success\"], axis=1)"
   ]
  },
  {
   "cell_type": "code",
   "execution_count": 140,
   "metadata": {},
   "outputs": [
    {
     "output_type": "execute_result",
     "data": {
      "text/plain": [
       "                             best test acc best test img acc\n",
       "task        same_class_prob                                 \n",
       "standard    0.000                    0.974                 -\n",
       "            0.500                    0.947                 -\n",
       "            1.000                    0.941                 -\n",
       "img_clas    0.000                    0.964             0.909\n",
       "            0.500                    0.958             0.887\n",
       "            1.000                    0.937             1.000\n",
       "target_clas 0.000                    0.975             0.339\n",
       "            0.500                    0.919             0.434\n",
       "            1.000                    0.917             0.505"
      ],
      "text/html": "<div>\n<style scoped>\n    .dataframe tbody tr th:only-of-type {\n        vertical-align: middle;\n    }\n\n    .dataframe tbody tr th {\n        vertical-align: top;\n    }\n\n    .dataframe thead th {\n        text-align: right;\n    }\n</style>\n<table border=\"1\" class=\"dataframe\">\n  <thead>\n    <tr style=\"text-align: right;\">\n      <th></th>\n      <th></th>\n      <th>best test acc</th>\n      <th>best test img acc</th>\n    </tr>\n    <tr>\n      <th>task</th>\n      <th>same_class_prob</th>\n      <th></th>\n      <th></th>\n    </tr>\n  </thead>\n  <tbody>\n    <tr>\n      <th rowspan=\"3\" valign=\"top\">standard</th>\n      <th>0.000</th>\n      <td>0.974</td>\n      <td>-</td>\n    </tr>\n    <tr>\n      <th>0.500</th>\n      <td>0.947</td>\n      <td>-</td>\n    </tr>\n    <tr>\n      <th>1.000</th>\n      <td>0.941</td>\n      <td>-</td>\n    </tr>\n    <tr>\n      <th rowspan=\"3\" valign=\"top\">img_clas</th>\n      <th>0.000</th>\n      <td>0.964</td>\n      <td>0.909</td>\n    </tr>\n    <tr>\n      <th>0.500</th>\n      <td>0.958</td>\n      <td>0.887</td>\n    </tr>\n    <tr>\n      <th>1.000</th>\n      <td>0.937</td>\n      <td>1.000</td>\n    </tr>\n    <tr>\n      <th rowspan=\"3\" valign=\"top\">target_clas</th>\n      <th>0.000</th>\n      <td>0.975</td>\n      <td>0.339</td>\n    </tr>\n    <tr>\n      <th>0.500</th>\n      <td>0.919</td>\n      <td>0.434</td>\n    </tr>\n    <tr>\n      <th>1.000</th>\n      <td>0.917</td>\n      <td>0.505</td>\n    </tr>\n  </tbody>\n</table>\n</div>"
     },
     "metadata": {},
     "execution_count": 140
    }
   ],
   "source": [
    "results"
   ]
  },
  {
   "cell_type": "code",
   "execution_count": 123,
   "metadata": {},
   "outputs": [
    {
     "output_type": "stream",
     "name": "stdout",
     "text": [
      "\\begin{tabular}{llrrl}\n\\toprule\n            &       &  best epoch &  best test acc & best test img acc \\\\\ntask & same\\_class\\_prob &             &                &                   \\\\\n\\midrule\nstandard & 0.000 &       2.667 &          0.974 &                 - \\\\\n            & 0.500 &       6.667 &          0.947 &                 - \\\\\n            & 1.000 &      10.667 &          0.941 &                 - \\\\\nimg\\_clas & 0.000 &       5.000 &          0.964 &             0.909 \\\\\n            & 0.500 &       8.667 &          0.958 &             0.887 \\\\\n            & 1.000 &       9.667 &          0.937 &             1.000 \\\\\ntarget\\_clas & 0.000 &       3.000 &          0.975 &             0.339 \\\\\n            & 0.500 &       6.667 &          0.919 &             0.434 \\\\\n            & 1.000 &       8.667 &          0.917 &             0.505 \\\\\n\\bottomrule\n\\end{tabular}\n\n"
     ]
    }
   ],
   "source": [
    "print(results.to_latex())"
   ]
  },
  {
   "cell_type": "code",
   "execution_count": null,
   "metadata": {},
   "outputs": [],
   "source": []
  }
 ]
}