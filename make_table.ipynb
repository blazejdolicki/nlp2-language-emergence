{
 "metadata": {
  "language_info": {
   "codemirror_mode": {
    "name": "ipython",
    "version": 3
   },
   "file_extension": ".py",
   "mimetype": "text/x-python",
   "name": "python",
   "nbconvert_exporter": "python",
   "pygments_lexer": "ipython3",
   "version": "3.7.0-final"
  },
  "orig_nbformat": 2,
  "kernelspec": {
   "name": "python3",
   "display_name": "Python 3.7.0 64-bit ('le-nlp2': conda)",
   "metadata": {
    "interpreter": {
     "hash": "faf78f47fd8955034d4b777123a9000e41db7624cc754dae23eef5d5cda1ecdc"
    }
   }
  }
 },
 "nbformat": 4,
 "nbformat_minor": 2,
 "cells": [
  {
   "cell_type": "code",
   "execution_count": 10,
   "metadata": {},
   "outputs": [],
   "source": [
    "log_names = ['27_03_2021_21_13_38_task_standard_seed_7', '27_03_2021_21_18_39_task_standard_seed_122', '27_03_2021_21_22_35_task_standard_seed_809', '27_03_2021_21_26_32_task_standard_seed_7', '27_03_2021_21_37_58_task_standard_seed_122', '27_03_2021_21_46_57_task_standard_seed_809', '27_03_2021_21_58_31_task_standard_seed_7', '27_03_2021_22_10_58_task_standard_seed_122', '27_03_2021_22_23_37_task_standard_seed_809', '27_03_2021_22_35_48_task_img_clas_seed_7', '27_03_2021_22_40_54_task_img_clas_seed_122', '27_03_2021_22_52_54_task_img_clas_seed_809', '27_03_2021_22_57_58_task_img_clas_seed_7', '27_03_2021_23_12_40_task_img_clas_seed_122', '27_03_2021_23_28_27_task_img_clas_seed_809', '27_03_2021_23_43_42_task_img_clas_seed_7', '27_03_2021_23_59_23_task_img_clas_seed_122', '28_03_2021_00_13_58_task_img_clas_seed_809', '28_03_2021_00_58_18_task_target_clas_seed_7', '28_03_2021_01_04_29_task_target_clas_seed_122', '28_03_2021_01_09_23_task_target_clas_seed_809', '28_03_2021_01_23_40_task_target_clas_seed_7', '28_03_2021_01_37_44_task_target_clas_seed_122', '28_03_2021_01_52_23_task_target_clas_seed_809', '28_03_2021_03_06_28_task_target_clas_seed_7', '28_03_2021_03_20_31_task_target_clas_seed_122', '28_03_2021_03_34_47_task_target_clas_seed_809']"
   ]
  },
  {
   "cell_type": "code",
   "execution_count": 11,
   "metadata": {},
   "outputs": [],
   "source": [
    "from tensorboard.backend.event_processing import event_accumulator\n",
    "import os\n",
    "import numpy as np\n",
    "import pandas as pd\n",
    "import json\n",
    "import torch\n",
    "pd.options.display.float_format = '{:,.3f}'.format\n",
    "\n",
    "def load_metric_from_event(event_name): \n",
    "    event_path = os.path.join(\"runs\", event_name)\n",
    "    event_name = os.listdir(event_path)[0]\n",
    "    event_path = os.path.join(event_path, event_name)\n",
    "\n",
    "    # only read scalars\n",
    "    ea = event_accumulator.EventAccumulator(event_path, size_guidance={event_accumulator.SCALARS: 0})\n",
    "\n",
    "    # load scalars\n",
    "    ea.Reload()\n",
    "\n",
    "    return get_best_epoch_metrics(ea)\n",
    "\n",
    "def get_best_epoch_metrics(ea):\n",
    "    test_accs = ea.Scalars(f\"test/acc\")\n",
    "    test_acc_vals = [acc.value for acc in test_accs]\n",
    "    test_best_acc_idx = np.argmax(test_acc_vals)\n",
    "    test_best_acc = np.max(test_acc_vals)\n",
    "    test_best_epoch = test_accs[test_best_acc_idx].step\n",
    "\n",
    "    train_accs = ea.Scalars(f\"train/acc\")\n",
    "    train_best_acc = train_accs[test_best_acc_idx].value\n",
    "    try:\n",
    "        train_img_clas_accs = ea.Scalars(f\"train/img_class_acc\")\n",
    "        train_best_img_clas_acc = train_img_clas_accs[test_best_acc_idx].value\n",
    "\n",
    "        \n",
    "        test_img_clas_accs = ea.Scalars(f\"train/img_class_acc\")\n",
    "        test_best_img_clas_acc = test_img_clas_accs[test_best_acc_idx].value\n",
    "    except KeyError:\n",
    "        train_best_img_clas_acc = np.nan\n",
    "        test_best_img_clas_acc = np.nan\n",
    "    \n",
    "    return [test_best_epoch, train_best_acc, test_best_acc, train_best_img_clas_acc, test_best_img_clas_acc]"
   ]
  },
  {
   "source": [
    "## Define important variables"
   ],
   "cell_type": "markdown",
   "metadata": {}
  },
  {
   "cell_type": "code",
   "execution_count": 12,
   "metadata": {},
   "outputs": [],
   "source": [
    "# events in tensorboard\n",
    "\n",
    "\n",
    "# choose which columsn to include\n",
    "include_params = [\"task\", \"ic_loss_weight\", \"num_imgs\", \"same_class_prob\", \"seed\"]"
   ]
  },
  {
   "cell_type": "code",
   "execution_count": 18,
   "metadata": {},
   "outputs": [
    {
     "output_type": "execute_result",
     "data": {
      "text/plain": [
       "          task  same_class_prob  seed  best test acc  noise acc\n",
       "0     standard            0.000     7          0.978      0.644\n",
       "0     standard            0.000   122          0.978      0.766\n",
       "0     standard            0.000   809          0.973      0.795\n",
       "0     standard            0.500     7          0.954      0.824\n",
       "0     standard            0.500   122          0.970      0.734\n",
       "0     standard            0.500   809          0.942      0.869\n",
       "0     standard            1.000     7          0.961      0.783\n",
       "0     standard            1.000   122          0.939      0.859\n",
       "0     standard            1.000   809          0.936      0.827\n",
       "0     img_clas            0.000     7          0.974      0.630\n",
       "0     img_clas            0.000   122          0.971      0.654\n",
       "0     img_clas            0.000   809          0.975      0.823\n",
       "0     img_clas            0.500     7          0.894      0.622\n",
       "0     img_clas            0.500   122          0.918      0.789\n",
       "0     img_clas            0.500   809          0.958      0.827\n",
       "0     img_clas            1.000     7          0.936      0.828\n",
       "0     img_clas            1.000   122          0.934      0.845\n",
       "0     img_clas            1.000   809          0.937      0.863\n",
       "0  target_clas            0.000     7          0.975      0.616\n",
       "0  target_clas            0.000   122          0.974      0.591\n",
       "0  target_clas            0.000   809          0.967      0.592\n",
       "0  target_clas            0.500     7          0.933      0.658\n",
       "0  target_clas            0.500   122          0.932      0.545\n",
       "0  target_clas            0.500   809          0.890      0.579\n",
       "0  target_clas            1.000     7          0.902      0.643\n",
       "0  target_clas            1.000   122          0.900      0.685\n",
       "0  target_clas            1.000   809          0.912      0.738"
      ],
      "text/html": "<div>\n<style scoped>\n    .dataframe tbody tr th:only-of-type {\n        vertical-align: middle;\n    }\n\n    .dataframe tbody tr th {\n        vertical-align: top;\n    }\n\n    .dataframe thead th {\n        text-align: right;\n    }\n</style>\n<table border=\"1\" class=\"dataframe\">\n  <thead>\n    <tr style=\"text-align: right;\">\n      <th></th>\n      <th>task</th>\n      <th>same_class_prob</th>\n      <th>seed</th>\n      <th>best test acc</th>\n      <th>noise acc</th>\n    </tr>\n  </thead>\n  <tbody>\n    <tr>\n      <th>0</th>\n      <td>standard</td>\n      <td>0.000</td>\n      <td>7</td>\n      <td>0.978</td>\n      <td>0.644</td>\n    </tr>\n    <tr>\n      <th>0</th>\n      <td>standard</td>\n      <td>0.000</td>\n      <td>122</td>\n      <td>0.978</td>\n      <td>0.766</td>\n    </tr>\n    <tr>\n      <th>0</th>\n      <td>standard</td>\n      <td>0.000</td>\n      <td>809</td>\n      <td>0.973</td>\n      <td>0.795</td>\n    </tr>\n    <tr>\n      <th>0</th>\n      <td>standard</td>\n      <td>0.500</td>\n      <td>7</td>\n      <td>0.954</td>\n      <td>0.824</td>\n    </tr>\n    <tr>\n      <th>0</th>\n      <td>standard</td>\n      <td>0.500</td>\n      <td>122</td>\n      <td>0.970</td>\n      <td>0.734</td>\n    </tr>\n    <tr>\n      <th>0</th>\n      <td>standard</td>\n      <td>0.500</td>\n      <td>809</td>\n      <td>0.942</td>\n      <td>0.869</td>\n    </tr>\n    <tr>\n      <th>0</th>\n      <td>standard</td>\n      <td>1.000</td>\n      <td>7</td>\n      <td>0.961</td>\n      <td>0.783</td>\n    </tr>\n    <tr>\n      <th>0</th>\n      <td>standard</td>\n      <td>1.000</td>\n      <td>122</td>\n      <td>0.939</td>\n      <td>0.859</td>\n    </tr>\n    <tr>\n      <th>0</th>\n      <td>standard</td>\n      <td>1.000</td>\n      <td>809</td>\n      <td>0.936</td>\n      <td>0.827</td>\n    </tr>\n    <tr>\n      <th>0</th>\n      <td>img_clas</td>\n      <td>0.000</td>\n      <td>7</td>\n      <td>0.974</td>\n      <td>0.630</td>\n    </tr>\n    <tr>\n      <th>0</th>\n      <td>img_clas</td>\n      <td>0.000</td>\n      <td>122</td>\n      <td>0.971</td>\n      <td>0.654</td>\n    </tr>\n    <tr>\n      <th>0</th>\n      <td>img_clas</td>\n      <td>0.000</td>\n      <td>809</td>\n      <td>0.975</td>\n      <td>0.823</td>\n    </tr>\n    <tr>\n      <th>0</th>\n      <td>img_clas</td>\n      <td>0.500</td>\n      <td>7</td>\n      <td>0.894</td>\n      <td>0.622</td>\n    </tr>\n    <tr>\n      <th>0</th>\n      <td>img_clas</td>\n      <td>0.500</td>\n      <td>122</td>\n      <td>0.918</td>\n      <td>0.789</td>\n    </tr>\n    <tr>\n      <th>0</th>\n      <td>img_clas</td>\n      <td>0.500</td>\n      <td>809</td>\n      <td>0.958</td>\n      <td>0.827</td>\n    </tr>\n    <tr>\n      <th>0</th>\n      <td>img_clas</td>\n      <td>1.000</td>\n      <td>7</td>\n      <td>0.936</td>\n      <td>0.828</td>\n    </tr>\n    <tr>\n      <th>0</th>\n      <td>img_clas</td>\n      <td>1.000</td>\n      <td>122</td>\n      <td>0.934</td>\n      <td>0.845</td>\n    </tr>\n    <tr>\n      <th>0</th>\n      <td>img_clas</td>\n      <td>1.000</td>\n      <td>809</td>\n      <td>0.937</td>\n      <td>0.863</td>\n    </tr>\n    <tr>\n      <th>0</th>\n      <td>target_clas</td>\n      <td>0.000</td>\n      <td>7</td>\n      <td>0.975</td>\n      <td>0.616</td>\n    </tr>\n    <tr>\n      <th>0</th>\n      <td>target_clas</td>\n      <td>0.000</td>\n      <td>122</td>\n      <td>0.974</td>\n      <td>0.591</td>\n    </tr>\n    <tr>\n      <th>0</th>\n      <td>target_clas</td>\n      <td>0.000</td>\n      <td>809</td>\n      <td>0.967</td>\n      <td>0.592</td>\n    </tr>\n    <tr>\n      <th>0</th>\n      <td>target_clas</td>\n      <td>0.500</td>\n      <td>7</td>\n      <td>0.933</td>\n      <td>0.658</td>\n    </tr>\n    <tr>\n      <th>0</th>\n      <td>target_clas</td>\n      <td>0.500</td>\n      <td>122</td>\n      <td>0.932</td>\n      <td>0.545</td>\n    </tr>\n    <tr>\n      <th>0</th>\n      <td>target_clas</td>\n      <td>0.500</td>\n      <td>809</td>\n      <td>0.890</td>\n      <td>0.579</td>\n    </tr>\n    <tr>\n      <th>0</th>\n      <td>target_clas</td>\n      <td>1.000</td>\n      <td>7</td>\n      <td>0.902</td>\n      <td>0.643</td>\n    </tr>\n    <tr>\n      <th>0</th>\n      <td>target_clas</td>\n      <td>1.000</td>\n      <td>122</td>\n      <td>0.900</td>\n      <td>0.685</td>\n    </tr>\n    <tr>\n      <th>0</th>\n      <td>target_clas</td>\n      <td>1.000</td>\n      <td>809</td>\n      <td>0.912</td>\n      <td>0.738</td>\n    </tr>\n  </tbody>\n</table>\n</div>"
     },
     "metadata": {},
     "execution_count": 18
    }
   ],
   "source": [
    "results = []\n",
    "for event_name in log_names:\n",
    "    # get parameters\n",
    "    with open(f\"args//args_{event_name}.json\") as json_file:\n",
    "        params = json.load(json_file)\n",
    "    # wrap each value into a list\n",
    "    params = {key:[value] for key, value in params.items()}\n",
    "\n",
    "    # create dataframe and add parameters\n",
    "    results_df = pd.DataFrame(params)[include_params]\n",
    "\n",
    "    # add metrics\n",
    "    metric_cols = [\"best epoch\", \"best train acc\", \"best test acc\", \"best train img acc\", \"best test img acc\"]\n",
    "    results_df.loc[:, metric_cols] = load_metric_from_event(event_name)\n",
    "\n",
    "    # add noise acc\n",
    "    try:\n",
    "        path = f'interactions//{event_name}//validation'\n",
    "        interactions = torch.load(f\"{path}//interactions_epoch11\")\n",
    "        results_df[\"noise acc\"] = interactions.aux[\"acc\"].mean().item()\n",
    "    except FileNotFoundError:\n",
    "        results_df[\"noise acc\"] = 0.0\n",
    "\n",
    "    # append to final table\n",
    "    results.append(results_df)\n",
    "\n",
    "\n",
    "results = pd.concat(results)\n",
    "\n",
    "results[[\"task\", \"same_class_prob\", \"seed\", \"best test acc\", \"noise acc\"]]"
   ]
  },
  {
   "cell_type": "code",
   "execution_count": 27,
   "metadata": {},
   "outputs": [
    {
     "output_type": "stream",
     "name": "stdout",
     "text": [
      "Pearson correlation: 0.08301405852828952 (p=0.68)\n",
      "Spearman correlation: 0.01282051282051282 (p=0.95)\n"
     ]
    }
   ],
   "source": [
    "from scipy.stats import pearsonr, spearmanr\n",
    "pearson = pearsonr(results[\"best test acc\"], results[\"noise acc\"])\n",
    "spearman = spearmanr(results[\"best test acc\"], results[\"noise acc\"])\n",
    "print(f\"Pearson correlation: {pearson[0]} (p={np.round(pearson[1],2)})\")\n",
    "print(f\"Spearman correlation: {spearman.correlation} (p={np.round(spearman.pvalue, 2)})\")"
   ]
  },
  {
   "cell_type": "code",
   "execution_count": 14,
   "metadata": {},
   "outputs": [
    {
     "output_type": "execute_result",
     "data": {
      "text/plain": [
       "                             best test acc best test img acc\n",
       "task        same_class_prob                                 \n",
       "standard    0.000                    0.976                 -\n",
       "            0.500                    0.955                 -\n",
       "            1.000                    0.945                 -\n",
       "img_clas    0.000                    0.973             0.918\n",
       "            0.500                    0.923             0.856\n",
       "            1.000                    0.935             1.000\n",
       "target_clas 0.000                    0.972             0.379\n",
       "            0.500                    0.918             0.455\n",
       "            1.000                    0.905             0.414"
      ],
      "text/html": "<div>\n<style scoped>\n    .dataframe tbody tr th:only-of-type {\n        vertical-align: middle;\n    }\n\n    .dataframe tbody tr th {\n        vertical-align: top;\n    }\n\n    .dataframe thead th {\n        text-align: right;\n    }\n</style>\n<table border=\"1\" class=\"dataframe\">\n  <thead>\n    <tr style=\"text-align: right;\">\n      <th></th>\n      <th></th>\n      <th>best test acc</th>\n      <th>best test img acc</th>\n    </tr>\n    <tr>\n      <th>task</th>\n      <th>same_class_prob</th>\n      <th></th>\n      <th></th>\n    </tr>\n  </thead>\n  <tbody>\n    <tr>\n      <th rowspan=\"3\" valign=\"top\">standard</th>\n      <th>0.000</th>\n      <td>0.976</td>\n      <td>-</td>\n    </tr>\n    <tr>\n      <th>0.500</th>\n      <td>0.955</td>\n      <td>-</td>\n    </tr>\n    <tr>\n      <th>1.000</th>\n      <td>0.945</td>\n      <td>-</td>\n    </tr>\n    <tr>\n      <th rowspan=\"3\" valign=\"top\">img_clas</th>\n      <th>0.000</th>\n      <td>0.973</td>\n      <td>0.918</td>\n    </tr>\n    <tr>\n      <th>0.500</th>\n      <td>0.923</td>\n      <td>0.856</td>\n    </tr>\n    <tr>\n      <th>1.000</th>\n      <td>0.935</td>\n      <td>1.000</td>\n    </tr>\n    <tr>\n      <th rowspan=\"3\" valign=\"top\">target_clas</th>\n      <th>0.000</th>\n      <td>0.972</td>\n      <td>0.379</td>\n    </tr>\n    <tr>\n      <th>0.500</th>\n      <td>0.918</td>\n      <td>0.455</td>\n    </tr>\n    <tr>\n      <th>1.000</th>\n      <td>0.905</td>\n      <td>0.414</td>\n    </tr>\n  </tbody>\n</table>\n</div>"
     },
     "metadata": {},
     "execution_count": 14
    }
   ],
   "source": [
    "# results[\"success\"] = (results[\"best test acc\"]>0.97).astype(int)\n",
    "results = results.groupby(by=[\"task\", \"same_class_prob\"]).mean()\n",
    "results = results.reindex(index = ['standard','img_clas','target_clas'], level=\"task\").fillna('-')\n",
    "results[[\"best test acc\", \"best test img acc\"]]"
   ]
  },
  {
   "cell_type": "code",
   "execution_count": 15,
   "metadata": {},
   "outputs": [
    {
     "output_type": "execute_result",
     "data": {
      "text/plain": [
       "             best test acc  noise acc\n",
       "task                                 \n",
       "standard             0.976      0.735\n",
       "standard             0.955      0.809\n",
       "standard             0.945      0.823\n",
       "img_clas             0.973      0.703\n",
       "img_clas             0.923      0.746\n",
       "img_clas             0.935      0.845\n",
       "target_clas          0.972      0.600\n",
       "target_clas          0.918      0.594\n",
       "target_clas          0.905      0.688"
      ],
      "text/html": "<div>\n<style scoped>\n    .dataframe tbody tr th:only-of-type {\n        vertical-align: middle;\n    }\n\n    .dataframe tbody tr th {\n        vertical-align: top;\n    }\n\n    .dataframe thead th {\n        text-align: right;\n    }\n</style>\n<table border=\"1\" class=\"dataframe\">\n  <thead>\n    <tr style=\"text-align: right;\">\n      <th></th>\n      <th>best test acc</th>\n      <th>noise acc</th>\n    </tr>\n    <tr>\n      <th>task</th>\n      <th></th>\n      <th></th>\n    </tr>\n  </thead>\n  <tbody>\n    <tr>\n      <th>standard</th>\n      <td>0.976</td>\n      <td>0.735</td>\n    </tr>\n    <tr>\n      <th>standard</th>\n      <td>0.955</td>\n      <td>0.809</td>\n    </tr>\n    <tr>\n      <th>standard</th>\n      <td>0.945</td>\n      <td>0.823</td>\n    </tr>\n    <tr>\n      <th>img_clas</th>\n      <td>0.973</td>\n      <td>0.703</td>\n    </tr>\n    <tr>\n      <th>img_clas</th>\n      <td>0.923</td>\n      <td>0.746</td>\n    </tr>\n    <tr>\n      <th>img_clas</th>\n      <td>0.935</td>\n      <td>0.845</td>\n    </tr>\n    <tr>\n      <th>target_clas</th>\n      <td>0.972</td>\n      <td>0.600</td>\n    </tr>\n    <tr>\n      <th>target_clas</th>\n      <td>0.918</td>\n      <td>0.594</td>\n    </tr>\n    <tr>\n      <th>target_clas</th>\n      <td>0.905</td>\n      <td>0.688</td>\n    </tr>\n  </tbody>\n</table>\n</div>"
     },
     "metadata": {},
     "execution_count": 15
    }
   ],
   "source": [
    "noise_results = results.reset_index(level=\"same_class_prob\")\n",
    "noise_results = noise_results.loc[:,[\"best test acc\", \"noise acc\"]]\n",
    "noise_results"
   ]
  },
  {
   "cell_type": "code",
   "execution_count": 134,
   "metadata": {},
   "outputs": [],
   "source": [
    "# success_results = results[results[\"success\"]==1].groupby(by=[\"task\", \"same_class_prob\"])[\"best epoch\"].mean()"
   ]
  },
  {
   "cell_type": "code",
   "execution_count": 136,
   "metadata": {},
   "outputs": [],
   "source": [
    "results = results.drop([\"ic_loss_weight\", \"num_imgs\", \"best epoch\", \"best train acc\", \"best train img acc\"], axis=1)\n",
    "results = results.groupby(by=[\"task\", \"same_class_prob\"]).mean().drop([\"seed\"], axis=1) #.agg({'best test acc' : ['mean'], 'best test img acc':['mean'], \"success\":['mean']}) "
   ]
  },
  {
   "cell_type": "code",
   "execution_count": 137,
   "metadata": {},
   "outputs": [],
   "source": [
    "results = results.reindex(index = ['standard','img_clas','target_clas'], level=\"task\").fillna('-')"
   ]
  },
  {
   "cell_type": "code",
   "execution_count": 138,
   "metadata": {},
   "outputs": [],
   "source": [
    "pd.options.display.float_format = '{:,.3f}'.format"
   ]
  },
  {
   "cell_type": "code",
   "execution_count": 139,
   "metadata": {},
   "outputs": [],
   "source": [
    "results = results.drop([\"success\"], axis=1)"
   ]
  },
  {
   "cell_type": "code",
   "execution_count": 140,
   "metadata": {},
   "outputs": [
    {
     "output_type": "execute_result",
     "data": {
      "text/plain": [
       "                             best test acc best test img acc\n",
       "task        same_class_prob                                 \n",
       "standard    0.000                    0.974                 -\n",
       "            0.500                    0.947                 -\n",
       "            1.000                    0.941                 -\n",
       "img_clas    0.000                    0.964             0.909\n",
       "            0.500                    0.958             0.887\n",
       "            1.000                    0.937             1.000\n",
       "target_clas 0.000                    0.975             0.339\n",
       "            0.500                    0.919             0.434\n",
       "            1.000                    0.917             0.505"
      ],
      "text/html": "<div>\n<style scoped>\n    .dataframe tbody tr th:only-of-type {\n        vertical-align: middle;\n    }\n\n    .dataframe tbody tr th {\n        vertical-align: top;\n    }\n\n    .dataframe thead th {\n        text-align: right;\n    }\n</style>\n<table border=\"1\" class=\"dataframe\">\n  <thead>\n    <tr style=\"text-align: right;\">\n      <th></th>\n      <th></th>\n      <th>best test acc</th>\n      <th>best test img acc</th>\n    </tr>\n    <tr>\n      <th>task</th>\n      <th>same_class_prob</th>\n      <th></th>\n      <th></th>\n    </tr>\n  </thead>\n  <tbody>\n    <tr>\n      <th rowspan=\"3\" valign=\"top\">standard</th>\n      <th>0.000</th>\n      <td>0.974</td>\n      <td>-</td>\n    </tr>\n    <tr>\n      <th>0.500</th>\n      <td>0.947</td>\n      <td>-</td>\n    </tr>\n    <tr>\n      <th>1.000</th>\n      <td>0.941</td>\n      <td>-</td>\n    </tr>\n    <tr>\n      <th rowspan=\"3\" valign=\"top\">img_clas</th>\n      <th>0.000</th>\n      <td>0.964</td>\n      <td>0.909</td>\n    </tr>\n    <tr>\n      <th>0.500</th>\n      <td>0.958</td>\n      <td>0.887</td>\n    </tr>\n    <tr>\n      <th>1.000</th>\n      <td>0.937</td>\n      <td>1.000</td>\n    </tr>\n    <tr>\n      <th rowspan=\"3\" valign=\"top\">target_clas</th>\n      <th>0.000</th>\n      <td>0.975</td>\n      <td>0.339</td>\n    </tr>\n    <tr>\n      <th>0.500</th>\n      <td>0.919</td>\n      <td>0.434</td>\n    </tr>\n    <tr>\n      <th>1.000</th>\n      <td>0.917</td>\n      <td>0.505</td>\n    </tr>\n  </tbody>\n</table>\n</div>"
     },
     "metadata": {},
     "execution_count": 140
    }
   ],
   "source": [
    "results"
   ]
  },
  {
   "cell_type": "code",
   "execution_count": 123,
   "metadata": {},
   "outputs": [
    {
     "output_type": "stream",
     "name": "stdout",
     "text": [
      "\\begin{tabular}{llrrl}\n\\toprule\n            &       &  best epoch &  best test acc & best test img acc \\\\\ntask & same\\_class\\_prob &             &                &                   \\\\\n\\midrule\nstandard & 0.000 &       2.667 &          0.974 &                 - \\\\\n            & 0.500 &       6.667 &          0.947 &                 - \\\\\n            & 1.000 &      10.667 &          0.941 &                 - \\\\\nimg\\_clas & 0.000 &       5.000 &          0.964 &             0.909 \\\\\n            & 0.500 &       8.667 &          0.958 &             0.887 \\\\\n            & 1.000 &       9.667 &          0.937 &             1.000 \\\\\ntarget\\_clas & 0.000 &       3.000 &          0.975 &             0.339 \\\\\n            & 0.500 &       6.667 &          0.919 &             0.434 \\\\\n            & 1.000 &       8.667 &          0.917 &             0.505 \\\\\n\\bottomrule\n\\end{tabular}\n\n"
     ]
    }
   ],
   "source": [
    "print(results.to_latex())"
   ]
  },
  {
   "cell_type": "code",
   "execution_count": null,
   "metadata": {},
   "outputs": [],
   "source": [
    "# events = ['24_03_2021_10_33_16_task_standard_seed_7', '24_03_2021_10_37_04_task_standard_seed_122', '24_03_2021_10_39_50_task_standard_seed_809', '24_03_2021_10_43_50_task_standard_seed_7', '24_03_2021_11_00_48_task_standard_seed_122', '24_03_2021_11_18_26_task_standard_seed_809', '24_03_2021_11_35_57_task_standard_seed_7', '24_03_2021_11_54_58_task_standard_seed_122', '24_03_2021_12_13_03_task_standard_seed_809', '24_03_2021_12_30_12_task_img_clas_seed_7', '24_03_2021_12_37_57_task_img_clas_seed_122', '24_03_2021_12_44_03_task_img_clas_seed_809', '24_03_2021_13_05_47_task_img_clas_seed_7', '24_03_2021_13_27_19_task_img_clas_seed_122', '24_03_2021_13_48_31_task_img_clas_seed_809', '24_03_2021_13_59_50_task_img_clas_seed_7', '24_03_2021_14_21_20_task_img_clas_seed_122', '24_03_2021_14_43_14_task_img_clas_seed_809', '24_03_2021_15_05_02_task_target_clas_seed_7', '24_03_2021_15_09_49_task_target_clas_seed_122', '24_03_2021_15_14_35_task_target_clas_seed_809', '24_03_2021_15_19_17_task_target_clas_seed_7', '24_03_2021_15_41_05_task_target_clas_seed_122', '24_03_2021_16_02_59_task_target_clas_seed_809', '24_03_2021_16_24_57_task_target_clas_seed_7', '24_03_2021_16_47_18_task_target_clas_seed_122', '24_03_2021_17_09_55_task_target_clas_seed_809']"
   ]
  }
 ]
}