{
 "metadata": {
  "language_info": {
   "codemirror_mode": {
    "name": "ipython",
    "version": 3
   },
   "file_extension": ".py",
   "mimetype": "text/x-python",
   "name": "python",
   "nbconvert_exporter": "python",
   "pygments_lexer": "ipython3",
   "version": "3.7.0-final"
  },
  "orig_nbformat": 2,
  "kernelspec": {
   "name": "python3",
   "display_name": "Python 3.7.0 64-bit",
   "metadata": {
    "interpreter": {
     "hash": "faf78f47fd8955034d4b777123a9000e41db7624cc754dae23eef5d5cda1ecdc"
    }
   }
  }
 },
 "nbformat": 4,
 "nbformat_minor": 2,
 "cells": [
  {
   "source": [
    "# Image classification pressures in language emergence\n",
    "This repository contains PyTorch code for the short paper \"Visual concepts pressure in language emergence\". "
   ],
   "cell_type": "markdown",
   "metadata": {}
  },
  {
   "source": [
    "## Installation\n",
    "Open Anaconda Prompt, create a new conda environment with Python 3.7 and activate it.\n",
    "```\n",
    "conda create -n le-nlp2 python=3.7\n",
    "conda activate le-nlp2\n",
    "```\n",
    "Install PyTorch and related libraries.\n",
    "```\n",
    "conda install pytorch=1.8.1 torchvision=0.9.1 torchaudio=0.8.1 cudatoolkit=10.2 -c pytorch\n",
    "```\n",
    "Install other packages.\n",
    "```\n",
    "pip install -r requirements.txt\n",
    "```\n",
    "\n",
    "Install EGG library from Github repository (commit `ba7ba8f`).\n",
    "```\n",
    "pip install git+https://github.com/facebookresearch/EGG.git@ba7ba8f\n",
    "```"
   ],
   "cell_type": "markdown",
   "metadata": {}
  },
  {
   "source": [
    "## Running experiments\n",
    "It is possible to run 3 kinds of tasks: the `standard` signaling game with a single loss (baseline) and two tasks with additional visual pressures. You should run all experiments from the project root directory."
   ],
   "cell_type": "markdown",
   "metadata": {}
  },
  {
   "source": [
    "### 1. Baseline\n",
    "Run the following code to train and evaluate the baseline model."
   ],
   "cell_type": "markdown",
   "metadata": {}
  },
  {
   "cell_type": "code",
   "execution_count": null,
   "metadata": {},
   "outputs": [],
   "source": [
    "!python main.py"
   ]
  },
  {
   "source": [
    "### 2. MultiLabel Binary image classification pressure (MLB)\n",
    "As our first pressure, the system additionally predicts for each image (distractors and target image) whether it is of the same class as the target image. The total loss is the loss for that task summed with the standard signaling game loss."
   ],
   "cell_type": "markdown",
   "metadata": {}
  },
  {
   "cell_type": "code",
   "execution_count": null,
   "metadata": {},
   "outputs": [],
   "source": [
    "!python main.py --task img_clas"
   ]
  },
  {
   "source": [
    "### 3. Multiclass image classification pressure\n",
    "As the second pressure, they system additionally predicts the target class of the target image. The total loss is the loss for that task summed with the standard signaling game loss."
   ],
   "cell_type": "markdown",
   "metadata": {}
  },
  {
   "cell_type": "code",
   "execution_count": null,
   "metadata": {},
   "outputs": [],
   "source": [
    "!python main.py --task target_clas"
   ]
  }
 ]
}