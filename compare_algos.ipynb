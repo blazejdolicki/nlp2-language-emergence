{
 "metadata": {
  "language_info": {
   "codemirror_mode": {
    "name": "ipython",
    "version": 3
   },
   "file_extension": ".py",
   "mimetype": "text/x-python",
   "name": "python",
   "nbconvert_exporter": "python",
   "pygments_lexer": "ipython3",
   "version": "3.7.0-final"
  },
  "orig_nbformat": 2,
  "kernelspec": {
   "name": "python3",
   "display_name": "Python 3.7.0 64-bit ('le-nlp2': conda)",
   "metadata": {
    "interpreter": {
     "hash": "faf78f47fd8955034d4b777123a9000e41db7624cc754dae23eef5d5cda1ecdc"
    }
   }
  }
 },
 "nbformat": 4,
 "nbformat_minor": 2,
 "cells": [
  {
   "cell_type": "code",
   "execution_count": 35,
   "metadata": {},
   "outputs": [],
   "source": [
    "events = ['27_03_2021_16_26_11_task_standard_seed_7', '27_03_2021_16_38_59_task_standard_seed_7', '27_03_2021_16_47_36_task_standard_seed_122', '27_03_2021_16_57_33_task_standard_seed_122', '27_03_2021_17_06_26_task_standard_seed_809', '27_03_2021_17_19_07_task_standard_seed_809']"
   ]
  },
  {
   "cell_type": "code",
   "execution_count": 40,
   "metadata": {},
   "outputs": [],
   "source": [
    "from tensorboard.backend.event_processing import event_accumulator\n",
    "import os\n",
    "import numpy as np\n",
    "import pandas as pd\n",
    "import json\n",
    "pd.options.display.float_format = '{:,.3f}'.format\n",
    "\n",
    "def load_metric_from_event(event_name): \n",
    "    event_path = os.path.join(\"runs\", event_name)\n",
    "    event_name = os.listdir(event_path)[0]\n",
    "    event_path = os.path.join(event_path, event_name)\n",
    "\n",
    "    # only read scalars\n",
    "    ea = event_accumulator.EventAccumulator(event_path, size_guidance={event_accumulator.SCALARS: 0})\n",
    "\n",
    "    # load scalars\n",
    "    ea.Reload()\n",
    "\n",
    "    return get_best_epoch_metrics(ea)\n",
    "\n",
    "def get_best_epoch_metrics(ea):\n",
    "    test_accs = ea.Scalars(f\"test/acc\")\n",
    "    test_acc_vals = [acc.value for acc in test_accs]\n",
    "    test_best_acc_idx = np.argmax(test_acc_vals)\n",
    "    test_best_acc = np.max(test_acc_vals)\n",
    "    test_best_epoch = test_accs[test_best_acc_idx].step\n",
    "\n",
    "    train_accs = ea.Scalars(f\"train/acc\")\n",
    "    train_best_acc = train_accs[test_best_acc_idx].value\n",
    "\n",
    "\n",
    "    try:\n",
    "        train_img_clas_accs = ea.Scalars(f\"train/img_class_acc\")\n",
    "        train_best_img_clas_acc = train_img_clas_accs[test_best_acc_idx].value\n",
    "\n",
    "        \n",
    "        test_img_clas_accs = ea.Scalars(f\"train/img_class_acc\")\n",
    "        test_best_img_clas_acc = test_img_clas_accs[test_best_acc_idx].value\n",
    "    except KeyError:\n",
    "        train_best_img_clas_acc = np.nan\n",
    "        test_best_img_clas_acc = np.nan\n",
    "    \n",
    "    return [test_best_epoch, train_best_acc, test_best_acc, train_best_img_clas_acc, test_best_img_clas_acc]"
   ]
  },
  {
   "cell_type": "code",
   "execution_count": 47,
   "metadata": {},
   "outputs": [],
   "source": [
    "# choose which params to include in the\n",
    "include_params = [\"task\", \"game_type\", \"ic_loss_weight\", \"num_imgs\", \"same_class_prob\", \"seed\" ]"
   ]
  },
  {
   "cell_type": "code",
   "execution_count": 48,
   "metadata": {},
   "outputs": [
    {
     "output_type": "execute_result",
     "data": {
      "text/plain": [
       "       task                   game_type  ic_loss_weight  num_imgs  \\\n",
       "0  standard         SenderReceiverRnnGS           1.000         2   \n",
       "0  standard  SenderReceiverRnnReinforce           1.000         2   \n",
       "0  standard         SenderReceiverRnnGS           1.000         2   \n",
       "0  standard  SenderReceiverRnnReinforce           1.000         2   \n",
       "0  standard         SenderReceiverRnnGS           1.000         2   \n",
       "0  standard  SenderReceiverRnnReinforce           1.000         2   \n",
       "\n",
       "   same_class_prob  seed  best epoch  best train acc  best test acc  \\\n",
       "0            0.500     7          10           0.933          0.954   \n",
       "0            0.500     7           8           0.872          0.919   \n",
       "0            0.500   122           7           0.955          0.970   \n",
       "0            0.500   122          10           0.828          0.873   \n",
       "0            0.500   809           8           0.918          0.942   \n",
       "0            0.500   809           6           0.879          0.914   \n",
       "\n",
       "   best train img acc  best test img acc  noise acc  \n",
       "0                 nan                nan      0.824  \n",
       "0                 nan                nan      0.806  \n",
       "0                 nan                nan      0.734  \n",
       "0                 nan                nan      0.651  \n",
       "0                 nan                nan      0.869  \n",
       "0                 nan                nan      0.749  "
      ],
      "text/html": "<div>\n<style scoped>\n    .dataframe tbody tr th:only-of-type {\n        vertical-align: middle;\n    }\n\n    .dataframe tbody tr th {\n        vertical-align: top;\n    }\n\n    .dataframe thead th {\n        text-align: right;\n    }\n</style>\n<table border=\"1\" class=\"dataframe\">\n  <thead>\n    <tr style=\"text-align: right;\">\n      <th></th>\n      <th>task</th>\n      <th>game_type</th>\n      <th>ic_loss_weight</th>\n      <th>num_imgs</th>\n      <th>same_class_prob</th>\n      <th>seed</th>\n      <th>best epoch</th>\n      <th>best train acc</th>\n      <th>best test acc</th>\n      <th>best train img acc</th>\n      <th>best test img acc</th>\n      <th>noise acc</th>\n    </tr>\n  </thead>\n  <tbody>\n    <tr>\n      <th>0</th>\n      <td>standard</td>\n      <td>SenderReceiverRnnGS</td>\n      <td>1.000</td>\n      <td>2</td>\n      <td>0.500</td>\n      <td>7</td>\n      <td>10</td>\n      <td>0.933</td>\n      <td>0.954</td>\n      <td>nan</td>\n      <td>nan</td>\n      <td>0.824</td>\n    </tr>\n    <tr>\n      <th>0</th>\n      <td>standard</td>\n      <td>SenderReceiverRnnReinforce</td>\n      <td>1.000</td>\n      <td>2</td>\n      <td>0.500</td>\n      <td>7</td>\n      <td>8</td>\n      <td>0.872</td>\n      <td>0.919</td>\n      <td>nan</td>\n      <td>nan</td>\n      <td>0.806</td>\n    </tr>\n    <tr>\n      <th>0</th>\n      <td>standard</td>\n      <td>SenderReceiverRnnGS</td>\n      <td>1.000</td>\n      <td>2</td>\n      <td>0.500</td>\n      <td>122</td>\n      <td>7</td>\n      <td>0.955</td>\n      <td>0.970</td>\n      <td>nan</td>\n      <td>nan</td>\n      <td>0.734</td>\n    </tr>\n    <tr>\n      <th>0</th>\n      <td>standard</td>\n      <td>SenderReceiverRnnReinforce</td>\n      <td>1.000</td>\n      <td>2</td>\n      <td>0.500</td>\n      <td>122</td>\n      <td>10</td>\n      <td>0.828</td>\n      <td>0.873</td>\n      <td>nan</td>\n      <td>nan</td>\n      <td>0.651</td>\n    </tr>\n    <tr>\n      <th>0</th>\n      <td>standard</td>\n      <td>SenderReceiverRnnGS</td>\n      <td>1.000</td>\n      <td>2</td>\n      <td>0.500</td>\n      <td>809</td>\n      <td>8</td>\n      <td>0.918</td>\n      <td>0.942</td>\n      <td>nan</td>\n      <td>nan</td>\n      <td>0.869</td>\n    </tr>\n    <tr>\n      <th>0</th>\n      <td>standard</td>\n      <td>SenderReceiverRnnReinforce</td>\n      <td>1.000</td>\n      <td>2</td>\n      <td>0.500</td>\n      <td>809</td>\n      <td>6</td>\n      <td>0.879</td>\n      <td>0.914</td>\n      <td>nan</td>\n      <td>nan</td>\n      <td>0.749</td>\n    </tr>\n  </tbody>\n</table>\n</div>"
     },
     "metadata": {},
     "execution_count": 48
    }
   ],
   "source": [
    "results = []\n",
    "args_dir = os.path.join(\"args\")\n",
    "for event_name in events:\n",
    "    # get parameters\n",
    "    with open(f\"{args_dir}\\\\args_{event_name}.json\") as json_file:\n",
    "        params = json.load(json_file)\n",
    "    # wrap each value into a list\n",
    "    params = {key:[value] for key, value in params.items()}\n",
    "\n",
    "    # create dataframe and add parameters\n",
    "    results_df = pd.DataFrame(params)[include_params]\n",
    "\n",
    "    # add metrics\n",
    "    metric_cols = [\"best epoch\", \"best train acc\", \"best test acc\", \"best train img acc\", \"best test img acc\"]\n",
    "    results_df.loc[:, metric_cols] = load_metric_from_event(event_name)\n",
    "    # append to final table\n",
    "    results.append(results_df)\n",
    "\n",
    "\n",
    "results = pd.concat(results)\n",
    "# manually add noise ac due to issues with tensorboard\n",
    "results[\"noise acc\"] = [0.8244, 0.8056, 0.7338, 0.6512, 0.869, 0.7491]\n",
    "results"
   ]
  },
  {
   "cell_type": "code",
   "execution_count": 49,
   "metadata": {},
   "outputs": [
    {
     "output_type": "execute_result",
     "data": {
      "text/plain": [
       "                            same_class_prob  best test acc best test img acc  \\\n",
       "game_type                                                                      \n",
       "SenderReceiverRnnGS                   0.500          0.955                 -   \n",
       "SenderReceiverRnnReinforce            0.500          0.902                 -   \n",
       "\n",
       "                            noise acc  success  \n",
       "game_type                                       \n",
       "SenderReceiverRnnGS             0.809    0.333  \n",
       "SenderReceiverRnnReinforce      0.735    0.000  "
      ],
      "text/html": "<div>\n<style scoped>\n    .dataframe tbody tr th:only-of-type {\n        vertical-align: middle;\n    }\n\n    .dataframe tbody tr th {\n        vertical-align: top;\n    }\n\n    .dataframe thead th {\n        text-align: right;\n    }\n</style>\n<table border=\"1\" class=\"dataframe\">\n  <thead>\n    <tr style=\"text-align: right;\">\n      <th></th>\n      <th>same_class_prob</th>\n      <th>best test acc</th>\n      <th>best test img acc</th>\n      <th>noise acc</th>\n      <th>success</th>\n    </tr>\n    <tr>\n      <th>game_type</th>\n      <th></th>\n      <th></th>\n      <th></th>\n      <th></th>\n      <th></th>\n    </tr>\n  </thead>\n  <tbody>\n    <tr>\n      <th>SenderReceiverRnnGS</th>\n      <td>0.500</td>\n      <td>0.955</td>\n      <td>-</td>\n      <td>0.809</td>\n      <td>0.333</td>\n    </tr>\n    <tr>\n      <th>SenderReceiverRnnReinforce</th>\n      <td>0.500</td>\n      <td>0.902</td>\n      <td>-</td>\n      <td>0.735</td>\n      <td>0.000</td>\n    </tr>\n  </tbody>\n</table>\n</div>"
     },
     "metadata": {},
     "execution_count": 49
    }
   ],
   "source": [
    "results[\"success\"] = (results[\"best test acc\"]>0.97).astype(int)\n",
    "results = results.drop([\"ic_loss_weight\", \"num_imgs\", \"best epoch\", \"best train acc\", \"best train img acc\"], axis=1)\n",
    "results = results.groupby(by=[\"game_type\"]).mean().drop([\"seed\"], axis=1).fillna('-')\n",
    "results"
   ]
  },
  {
   "cell_type": "code",
   "execution_count": null,
   "metadata": {},
   "outputs": [],
   "source": []
  }
 ]
}